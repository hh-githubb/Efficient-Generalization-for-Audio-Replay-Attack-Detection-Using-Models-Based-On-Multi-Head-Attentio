{
  "cells": [
    {
      "cell_type": "code",
      "execution_count": null,
      "metadata": {
        "colab": {
          "base_uri": "https://localhost:8080/"
        },
        "id": "FkJIWywt4LQ5",
        "outputId": "7dd6b578-963d-4fc1-e420-f1b2f3294e96"
      },
      "outputs": [
        {
          "output_type": "stream",
          "name": "stdout",
          "text": [
            "Looking in indexes: https://pypi.org/simple, https://us-python.pkg.dev/colab-wheels/public/simple/\n",
            "Collecting scikit-plot\n",
            "  Downloading scikit_plot-0.3.7-py3-none-any.whl (33 kB)\n",
            "Requirement already satisfied: scipy>=0.9 in /usr/local/lib/python3.7/dist-packages (from scikit-plot) (1.7.3)\n",
            "Requirement already satisfied: joblib>=0.10 in /usr/local/lib/python3.7/dist-packages (from scikit-plot) (1.1.0)\n",
            "Requirement already satisfied: matplotlib>=1.4.0 in /usr/local/lib/python3.7/dist-packages (from scikit-plot) (3.2.2)\n",
            "Requirement already satisfied: scikit-learn>=0.18 in /usr/local/lib/python3.7/dist-packages (from scikit-plot) (1.0.2)\n",
            "Requirement already satisfied: python-dateutil>=2.1 in /usr/local/lib/python3.7/dist-packages (from matplotlib>=1.4.0->scikit-plot) (2.8.2)\n",
            "Requirement already satisfied: numpy>=1.11 in /usr/local/lib/python3.7/dist-packages (from matplotlib>=1.4.0->scikit-plot) (1.21.6)\n",
            "Requirement already satisfied: cycler>=0.10 in /usr/local/lib/python3.7/dist-packages (from matplotlib>=1.4.0->scikit-plot) (0.11.0)\n",
            "Requirement already satisfied: pyparsing!=2.0.4,!=2.1.2,!=2.1.6,>=2.0.1 in /usr/local/lib/python3.7/dist-packages (from matplotlib>=1.4.0->scikit-plot) (3.0.9)\n",
            "Requirement already satisfied: kiwisolver>=1.0.1 in /usr/local/lib/python3.7/dist-packages (from matplotlib>=1.4.0->scikit-plot) (1.4.4)\n",
            "Requirement already satisfied: typing-extensions in /usr/local/lib/python3.7/dist-packages (from kiwisolver>=1.0.1->matplotlib>=1.4.0->scikit-plot) (4.1.1)\n",
            "Requirement already satisfied: six>=1.5 in /usr/local/lib/python3.7/dist-packages (from python-dateutil>=2.1->matplotlib>=1.4.0->scikit-plot) (1.15.0)\n",
            "Requirement already satisfied: threadpoolctl>=2.0.0 in /usr/local/lib/python3.7/dist-packages (from scikit-learn>=0.18->scikit-plot) (3.1.0)\n",
            "Installing collected packages: scikit-plot\n",
            "Successfully installed scikit-plot-0.3.7\n"
          ]
        }
      ],
      "source": [
        "!pip install scikit-plot"
      ]
    },
    {
      "cell_type": "code",
      "execution_count": null,
      "metadata": {
        "colab": {
          "base_uri": "https://localhost:8080/"
        },
        "id": "aew5vTsEBF7p",
        "outputId": "2f11e79c-cfc8-4fff-ffea-c04f5203b0f1"
      },
      "outputs": [
        {
          "output_type": "stream",
          "name": "stdout",
          "text": [
            "Looking in indexes: https://pypi.org/simple, https://us-python.pkg.dev/colab-wheels/public/simple/\n",
            "Collecting tensorflow-addons\n",
            "  Downloading tensorflow_addons-0.17.1-cp37-cp37m-manylinux_2_17_x86_64.manylinux2014_x86_64.whl (1.1 MB)\n",
            "\u001b[K     |████████████████████████████████| 1.1 MB 5.2 MB/s \n",
            "\u001b[?25hRequirement already satisfied: typeguard>=2.7 in /usr/local/lib/python3.7/dist-packages (from tensorflow-addons) (2.7.1)\n",
            "Requirement already satisfied: packaging in /usr/local/lib/python3.7/dist-packages (from tensorflow-addons) (21.3)\n",
            "Requirement already satisfied: pyparsing!=3.0.5,>=2.0.2 in /usr/local/lib/python3.7/dist-packages (from packaging->tensorflow-addons) (3.0.9)\n",
            "Installing collected packages: tensorflow-addons\n",
            "Successfully installed tensorflow-addons-0.17.1\n"
          ]
        }
      ],
      "source": [
        "pip install tensorflow-addons"
      ]
    },
    {
      "cell_type": "code",
      "execution_count": null,
      "metadata": {
        "colab": {
          "base_uri": "https://localhost:8080/"
        },
        "id": "1z9xYFGS7-86",
        "outputId": "dabb34e9-a1d0-4ed0-86e2-0af6fdd78ca8"
      },
      "outputs": [
        {
          "output_type": "stream",
          "name": "stdout",
          "text": [
            "Mounted at /content/drive\n"
          ]
        }
      ],
      "source": [
        "from google.colab import drive\n",
        "drive.mount('/content/drive')"
      ]
    },
    {
      "cell_type": "code",
      "execution_count": null,
      "metadata": {
        "id": "UPGymWC4tAd7"
      },
      "outputs": [],
      "source": [
        "import numpy as np\n",
        "import matplotlib.pyplot as plt\n",
        "from keras.preprocessing.image import ImageDataGenerator\n",
        "from keras.models import Input,Sequential,load_model,Model\n",
        "from keras.layers.convolutional import Conv2D, MaxPooling2D, ZeroPadding2D\n",
        "from keras.layers import Activation,merge,Concatenate,AveragePooling2D,BatchNormalization,MaxPool2D ,GlobalAvgPool2D,Dropout,ReLU,AvgPool2D, Flatten, Dense, Lambda, add,concatenate,GlobalAveragePooling2D,PReLU,SpatialDropout2D,ConvLSTM2D\n",
        "from keras.initializers import he_normal,glorot_normal,glorot_uniform\n",
        "import tensorflow_addons as tfa\n",
        "import keras.backend as K\n",
        "import keras\n",
        "import tensorflow as tf\n",
        "from keras.callbacks import EarlyStopping,ModelCheckpoint,LearningRateScheduler\n",
        "from sklearn.metrics import roc_auc_score, roc_curve, precision_score, recall_score\n",
        "from keras import metrics\n",
        "from sklearn.metrics import confusion_matrix\n",
        "from sklearn.metrics import classification_report\n",
        "import os\n",
        "from scikitplot.metrics import plot_confusion_matrix, plot_roc\n",
        "from sklearn.metrics import plot_det_curve\n",
        "from sklearn.metrics import DetCurveDisplay,det_curve\n",
        "import sklearn"
      ]
    },
    {
      "cell_type": "code",
      "execution_count": null,
      "metadata": {
        "id": "XYhG5RJt_tKC"
      },
      "outputs": [],
      "source": [
        "num_classes = 2\n",
        "sgd_initial_learning_rate=0.001\n",
        "Adam_initial_learning_rate=0.00001\n",
        "batch_size = 64\n",
        "epochs = 100\n",
        "lr=0.001\n",
        "patience_iter = 1\n",
        "patience=10\n",
        "best_model_file = '/content/drive/Shareddrives/Unlimited Drive | @LicenseMarket/models/LightCnn_blackman_frames864_sgd_epochs_batch32.h5'\n"
      ]
    },
    {
      "cell_type": "code",
      "execution_count": null,
      "metadata": {
        "id": "k9nwAu1fAPmX"
      },
      "outputs": [],
      "source": [
        "#img_rows=256,FrameLen=256,FrameInc=64,NFFT=800,winfunc=np.blackman\n",
        "def featProcess():\n",
        "    trainData = np.load('/content/drive/Shareddrives/Unlimited Drive | @LicenseMarket/log_power_spectrogram/log_power_spec_400_400_100_800/train/train.npy')\n",
        "    trainLabel = np.load('/content/drive/Shareddrives/Unlimited Drive | @LicenseMarket/log_power_spectrogram/log_power_spec_400_400_100_800/train_lable/train_lable.npy')\n",
        "    \n",
        "    devData = np.load('/content/drive/Shareddrives/Unlimited Drive | @LicenseMarket/log_power_spectrogram/log_power_spec_400_400_100_800/dev/dev.npy')\n",
        "    devLabel = np.load('/content/drive/Shareddrives/Unlimited Drive | @LicenseMarket/log_power_spectrogram/log_power_spec_400_400_100_800/dev_lable/dev_lable.npy')\n",
        "\n",
        "    #evalData = np.load('/content/drive/Shareddrives/Unlimited Drive | @LicenseMarket/log_power_spectrogram_256time_256frame_length_64step_800fft/eval/eval_1.npy')\n",
        "    #evalLabel = np.load('/content/drive/Shareddrives/Unlimited Drive | @LicenseMarket/log_power_spectrogram_256time_256frame_length_64step_800fft/eval_lable/eval_1_label.npy')\n",
        "    \n",
        "    #trainData = np.concatenate((trainData,devData))\n",
        "    #trainLabel = np.concatenate((trainLabel,devLabel)) \n",
        "    \n",
        "    img_rows, img_cols =trainData[0].shape\n",
        "    \n",
        "    x_train = trainData.reshape(trainData.shape[0], img_rows, img_cols, 1)\n",
        "    #y_train=trainLabel.astype(np.float64)\n",
        "    y_train = keras.utils.np_utils.to_categorical(trainLabel,num_classes)\n",
        "    #y_train = trainLabel\n",
        "    \n",
        "    x_dev = devData.reshape(devData.shape[0], img_rows, img_cols, 1)\n",
        "    #y_dev=devLabel.astype(np.float64)\n",
        "    y_dev = keras.utils.np_utils.to_categorical(devLabel,num_classes)\n",
        "    #y_dev = devLabel\n",
        "    \n",
        "    #x_test = evalData.reshape(evalData.shape[0], img_rows, img_cols, 1)\n",
        "    #y_test = keras.utils.np_utils.to_categorical(evalLabel,num_classes)\n",
        "    #y_test = evalLabel\n",
        "    \n",
        " \n",
        "    return x_train,y_train,trainLabel,x_dev,y_dev,devLabel#,x_test,y_test,evalLabel"
      ]
    },
    {
      "cell_type": "code",
      "execution_count": null,
      "metadata": {
        "id": "J9vwkYt15krq"
      },
      "outputs": [],
      "source": [
        "x_train,y_train,trainLabel,x_dev,y_dev,devLabel= featProcess()"
      ]
    },
    {
      "cell_type": "code",
      "execution_count": null,
      "metadata": {
        "colab": {
          "base_uri": "https://localhost:8080/"
        },
        "id": "0pz4OPTGZUGb",
        "outputId": "c3849ff9-13cd-4bac-b5f6-c2e141ed1e48"
      },
      "outputs": [
        {
          "output_type": "execute_result",
          "data": {
            "text/plain": [
              "numpy.ndarray"
            ]
          },
          "metadata": {},
          "execution_count": 58
        }
      ],
      "source": [
        "type(y_train[1])"
      ]
    },
    {
      "cell_type": "code",
      "execution_count": null,
      "metadata": {
        "id": "dHPwCud25oui"
      },
      "outputs": [],
      "source": [
        "def EER_score(y,y_pred_prob,pos_label=1):\n",
        "    fpr,tpr,thresholds = roc_curve(y,y_pred_prob)\n",
        "    fnr = 1 - tpr\n",
        "    EER_fpr = fpr[np.nanargmin(np.absolute((fnr-fpr)))]\n",
        "    EER_fnr = fnr[np.nanargmin(np.absolute((fnr-fpr)))]\n",
        "    EER = (EER_fpr+EER_fnr)/2\n",
        "    return EER*100"
      ]
    },
    {
      "cell_type": "code",
      "execution_count": null,
      "metadata": {
        "id": "a5EHvvpq7hCc"
      },
      "outputs": [],
      "source": [
        "def auc(y_true,y_pred):\n",
        "    \n",
        "    ptas = tf.stack([binary_PTA(y_true,y_pred,k) for k in np.linspace(0,1,1000)],axis=0)\n",
        "    pfas = tf.stack([binary_PFA(y_true,y_pred,k) for k in np.linspace(0,1,1000)],axis=0)\n",
        "    pfas = tf.concat([tf.ones((1,)),pfas],axis=0)\n",
        "    binSizes = -(pfas[1:]-pfas[:-1])\n",
        "    s = ptas*binSizes\n",
        "    return K.sum(s,axis=0)"
      ]
    },
    {
      "cell_type": "code",
      "execution_count": null,
      "metadata": {
        "id": "baWsOavR8ZUc"
      },
      "outputs": [],
      "source": [
        "def binary_PFA(y_true,y_pred,threshold=K.variable(value=0.5)):\n",
        "    y_pred = K.cast(y_pred >= threshold,'float32')\n",
        "    N = K.sum(1-y_true)\n",
        "    FP = K.sum(y_pred-y_pred*y_true)\n",
        "    return FP/N"
      ]
    },
    {
      "cell_type": "code",
      "execution_count": null,
      "metadata": {
        "id": "dGLMWWqg8dvJ"
      },
      "outputs": [],
      "source": [
        "def binary_PTA(y_true,y_pred,threshold=K.variable(value=0.5)):\n",
        "    y_pred = K.cast(y_pred >= threshold,'float32')\n",
        "    P = K.sum(1-y_true)\n",
        "    TP = K.sum(y_pred-y_pred*y_true)\n",
        "    return TP/P "
      ]
    },
    {
      "cell_type": "code",
      "execution_count": null,
      "metadata": {
        "id": "IOjth0MK8iao"
      },
      "outputs": [],
      "source": [
        "def CalEER(y,y_pred_prob):\n",
        "    fpr,tpr,thresholds = roc_curve(y,y_pred_prob)\n",
        "    fnr = 1 - tpr\n",
        "    eer_thresholds = thresholds[np.nanargmin(np.absolute((fnr-fpr)))]\n",
        "    print (\"eer_thresholds:\",eer_thresholds)\n",
        "    EER_fpr = fpr[np.nanargmin(np.absolute((fnr-fpr)))]\n",
        "    EER_fnr = fnr[np.nanargmin(np.absolute((fnr-fpr)))]\n",
        "    EER = (EER_fpr+EER_fnr)/2\n",
        "    print (\"EER_fpr:\",EER_fpr*100)\n",
        "    print (\"EER_fnr:\",EER_fnr*100)\n",
        "    print (\"EER:\",EER*100)\n",
        "    plt.plot(fpr,tpr,color=\"red\")\n",
        "    plt.plot(np.arange(0.0,1.0,0.01),1.0-np.arange(0.0,1.0,0.01),color=\"blue\")\n",
        "    plt.annotate(EER*100,xy=(EER,1-EER),xytext=(0.1+EER,1-EER),\n",
        "                 arrowprops=dict(arrowstyle='->',connectionstyle='arc3'))\n",
        "    plt.xlim([0.0,1.0])\n",
        "    plt.ylim([0.0,1.0])\n",
        "    plt.title(\"ROC curve for cnn_vit classifier\")\n",
        "    plt.xlabel(\"False Positive Rate (1-Specificity)\")\n",
        "    plt.ylabel(\"True positive Rate (Sensitivity)\")\n",
        "    plt.grid(True)\n",
        "    plt.show()\n",
        "    return eer_thresholds"
      ]
    },
    {
      "cell_type": "code",
      "execution_count": null,
      "metadata": {
        "id": "Ic1aF2YQ8q6B"
      },
      "outputs": [],
      "source": [
        "def analysisModel(y,y_pred):\n",
        "    print(classification_report(y,y_pred))\n",
        "    confusion = confusion_matrix(y,y_pred)\n",
        "    TP = confusion[1,1]\n",
        "    FP = confusion[0,1]\n",
        "    TN = confusion[0,0]\n",
        "    FN = confusion[1,0]\n",
        "    print(\"TP:\",TP,\"FN:\",FN)\n",
        "    print(\"FP:\",FP,\"TN:\",TN)\n",
        "    print(\"Recall:\",recall_score(y,y_pred)*100)#TPR,sensitivity\n",
        "    print(\"Specificity:\",TN / float(TN+FP)*100)#TNR\n",
        "    print(\"1-Specificity\",FP / float(TN+FP)*100)#FPR\n",
        "    print(\"Precision:\",precision_score(y,y_pred)*100)"
      ]
    },
    {
      "cell_type": "code",
      "execution_count": null,
      "metadata": {
        "id": "wc6KZMk39Dca"
      },
      "outputs": [],
      "source": [
        "class EERMetricCallback(tf.keras.callbacks.Callback):\n",
        "    def __init__(self,predict_batch_size=1024,validation_data=None,include_on_batch=False):\n",
        "        super(EERMetricCallback,self).__init__()\n",
        "        self.predict_batch_size=predict_batch_size\n",
        "        self.include_on_batch=include_on_batch\n",
        "        self.validation_data=validation_data\n",
        "    def on_batch_begin(self,batch,logs={}):\n",
        "        pass\n",
        "    \n",
        "    def on_batch_end(self,batch,logs={}):\n",
        "        pass\n",
        "        '''\n",
        "        if (self.include_on_batch):\n",
        "            logs['eer_val']=float('-inf')\n",
        "            if (self.validation_data):\n",
        "                logs['eer_val']=EER_score(self.validation_data[1],\n",
        "                    self.model.predict(self.validation_data[0],batch_size=self.predict_batch_size))\n",
        "        '''       \n",
        "    def on_train_begin(self,logs={}):\n",
        "        self.params['metrics']=[]\n",
        "        if not ('eer_val' in self.params['metrics']):\n",
        "            self.params['metrics'].append('eer_val')\n",
        "            \n",
        "            \n",
        "    def on_train_end(self,logs={}):\n",
        "        logs['eer_val']=float('-inf')\n",
        "        if (self.validation_data):\n",
        "            logs['eer_val']=EER_score(self.validation_data[1][:,1],\n",
        "                self.model.predict(self.validation_data[0],batch_size=self.predict_batch_size)[:,1])\n",
        "    \n",
        "    def on_epoch_begin(self,epoch,logs={}):\n",
        "        pass\n",
        "    \n",
        "    def on_epoch_end(self,epoch,logs={}):\n",
        "        pass"
      ]
    },
    {
      "cell_type": "code",
      "execution_count": null,
      "metadata": {
        "id": "D0kRh77uzs9z"
      },
      "outputs": [],
      "source": [
        "class PerformanceVisualizationCallback(keras.callbacks.Callback):\n",
        "    def __init__(self, model, validation_data, image_dir,predict_batch_size=1024):\n",
        "        super(PerformanceVisualizationCallback,self).__init__()\n",
        "        self.model = model\n",
        "        self.validation_data = validation_data\n",
        "        self.predict_batch_size=predict_batch_size\n",
        "        os.makedirs(image_dir, exist_ok=True)\n",
        "        self.image_dir = image_dir\n",
        "\n",
        "    def on_epoch_end(self, epoch, logs={}):\n",
        "        y_pred =np.asarray(self.model.predict(self.validation_data[0],batch_size=self.predict_batch_size)[:,1])\n",
        "        y_true = self.validation_data[1]            \n",
        "        y_pred_class=np.where(y_pred > 0.5, 1,0)\n",
        "\n",
        "        # plot and save confusion matrix\n",
        "        fig, ax = plt.subplots(figsize=(16,12))\n",
        "        plot_confusion_matrix(y_true, y_pred_class, ax=ax)\n",
        "        fig.savefig(os.path.join(self.image_dir, f'confusion_matrix_epoch_{epoch}'))\n",
        "\n",
        "       # plot and save roc curve\n",
        "        fig, ax = plt.subplots(figsize=(16,12))\n",
        "        plot_roc(y_true, y_pred, ax=ax)\n",
        "        fig.savefig(os.path.join(self.image_dir, f'roc_curve_epoch_{epoch}'))"
      ]
    },
    {
      "cell_type": "code",
      "execution_count": null,
      "metadata": {
        "id": "0UV8AClc9NrR"
      },
      "outputs": [],
      "source": [
        "decay = Adam_initial_learning_rate / epochs\n",
        "def lr_scheduler(epoch, lr):\n",
        "    #learning_rate =lr * 1 / (1 + 25000*decay * epoch)\n",
        "    #print('learning_rate is %f' % learning_rate)\n",
        "    if epoch >= 0.3*epochs:\n",
        "            learning_rate =lr #* 1 / (1 + 1000*decay * epoch)\n",
        "    #elif epoch >= 0.7*epochs:\n",
        "            #learning_rate =lr * 1 / (1 + 5000*decay * epoch)\n",
        "    #elif epoch >= 0.5*epochs:\n",
        "            #learning_rate =lr * 1 / (1 + 10000*decay * epoch)\n",
        "    #elif epoch >= 0.3*epochs:\n",
        "            #learning_rate =lr * 1 / (1 + 20000*decay * epoch)\n",
        "    elif epoch >= 0.2*epochs:\n",
        "            learning_rate =lr * 1 / (1 + 50000*decay * epoch)\n",
        "    elif epoch >= 0.1*epochs:\n",
        "            learning_rate =lr * 1 / (1 + 100000*decay * epoch)\n",
        "    else:\n",
        "            learning_rate = Adam_initial_learning_rate\n",
        "    print('learning_rate is %3f' % learning_rate)\n",
        "    return learning_rate"
      ]
    },
    {
      "cell_type": "code",
      "execution_count": null,
      "metadata": {
        "id": "ZoyroIgiXRw3"
      },
      "outputs": [],
      "source": [
        "class patchEmbeding2(tf.keras.layers.Layer):\n",
        "    def __init__(self , num_of_patches, projection_dim):\n",
        "\n",
        "      super(patchEmbeding2, self).__init__()\n",
        "      self.num_of_patches=num_of_patches + 1\n",
        "      self.projection_dim=projection_dim\n",
        "      \n",
        "      self.projection=tf.keras.layers.Dense(projection_dim)\n",
        "      self.clstoken=tf.Variable(tf.keras.initializers.GlorotNormal()(shape=(1 , 1 ,projection_dim)),trainable=True)\n",
        "\n",
        "      self.positionalEmbedding=tf.keras.layers.Embedding(self.num_of_patches , projection_dim) #give a vector for each pateches\n",
        "    def get_config(self):\n",
        "        cfg = super().get_config()\n",
        "        return cfg \n",
        "      \n",
        "    def call(self, inputs):\n",
        "      patches = tf.reshape(inputs ,(tf.shape(inputs)[0] , -1 , tf.shape(inputs)[3]))\n",
        "      patches=self.projection(patches)\n",
        "      clstoken=tf.repeat(self.clstoken, tf.shape(inputs)[0],0) #repeat it with size of our batch_size\n",
        "      #print('patches',patches.shape)\n",
        "      #print('clstoken',clstoken.shape)\n",
        "\n",
        "      patches=tf.concat((clstoken , patches), axis=1)\n",
        "      #print('patches',patches.shape)\n",
        "\n",
        "      positions=tf.range(0,self.num_of_patches,1)[tf.newaxis, ...]\n",
        "      positionalEmbedding=self.positionalEmbedding(positions)\n",
        "      #print('positionalEmbedding',positionalEmbedding.shape)\n",
        "      patches = patches + positionalEmbedding\n",
        "\n",
        "\n",
        "      return patches"
      ]
    },
    {
      "cell_type": "code",
      "execution_count": null,
      "metadata": {
        "id": "g_4MI0CgN3iz"
      },
      "outputs": [],
      "source": [
        "embed=patchEmbeding2(144,128)"
      ]
    },
    {
      "cell_type": "code",
      "execution_count": null,
      "metadata": {
        "colab": {
          "base_uri": "https://localhost:8080/"
        },
        "id": "PSxBA3ysOKN1",
        "outputId": "c2301107-41eb-4076-8413-bed749d121c4"
      },
      "outputs": [
        {
          "output_type": "stream",
          "name": "stdout",
          "text": [
            "patches (32, 144, 128)\n"
          ]
        }
      ],
      "source": [
        "resualt=embed(tf.random.normal(shape=(32,12,12,128)))"
      ]
    },
    {
      "cell_type": "code",
      "source": [
        "class patchEmbeding(tf.keras.layers.Layer):\n",
        "    def __init__(self,size , num_of_patches, projection_dim):\n",
        "\n",
        "      super(patchEmbeding, self).__init__()\n",
        "      self.size=size\n",
        "      self.num_of_patches=num_of_patches + 1\n",
        "      self.projection_dim=projection_dim\n",
        "      \n",
        "      self.projection=tf.keras.layers.Dense(projection_dim)\n",
        "\n",
        "      self.clstoken=tf.Variable(tf.keras.initializers.GlorotNormal()(shape=(1 , 1 ,projection_dim)),trainable=True)\n",
        "\n",
        "      self.positionalEmbedding=tf.keras.layers.Embedding(self.num_of_patches , projection_dim) #give a vector for each pateches\n",
        "      \n",
        "    def get_config(self):\n",
        "        cfg = super().get_config()\n",
        "        return cfg\n",
        "    def call(self, inputs):\n",
        "      patches=tf.image.extract_patches(inputs, sizes=[1, self.size , self.size ,1],\n",
        "                                     strides=[1, self.size ,self.size ,1],\n",
        "                                     rates=[1 ,1 ,1 ,1 ],\n",
        "                                     padding=\"VALID\")\n",
        "      patches = tf.reshape(patches ,(tf.shape(inputs)[0] , -1 , self.size * self.size*128))\n",
        "      patches=self.projection(patches)\n",
        "      clstoken=tf.repeat(self.clstoken, tf.shape(inputs)[0],0) #repeat it with size of our batch_size\n",
        "      #print('patches',patches.shape)\n",
        "      #print('clstoken',clstoken.shape)\n",
        "\n",
        "      patches=tf.concat((clstoken , patches), axis=1)\n",
        "      #print('patches',patches.shape)\n",
        "\n",
        "      positions=tf.range(0,self.num_of_patches,1)[tf.newaxis, ...]\n",
        "      positionalEmbedding=self.positionalEmbedding(positions)\n",
        "      #print('positionalEmbedding',positionalEmbedding.shape)\n",
        "      patches = patches + positionalEmbedding\n",
        "\n",
        "\n",
        "      return patches"
      ],
      "metadata": {
        "id": "gAr3dPBGO8uD"
      },
      "execution_count": null,
      "outputs": []
    },
    {
      "cell_type": "code",
      "source": [
        "embed=patchEmbeding(2,36,256)"
      ],
      "metadata": {
        "id": "bZc1kFnCPV_k"
      },
      "execution_count": null,
      "outputs": []
    },
    {
      "cell_type": "code",
      "source": [
        "patches=tf.image.extract_patches( tf.random.normal(shape=(1,12,12,128)), sizes=[1,2,2,1] , strides=[1,2,2,1] ,\n",
        "                                 rates=[1,1,1,1],\n",
        "                                 padding='VALID')\n",
        "patches.shape"
      ],
      "metadata": {
        "colab": {
          "base_uri": "https://localhost:8080/"
        },
        "id": "CbsrVZ5kQlO6",
        "outputId": "ee93d4dc-549e-40e7-e3d3-5abbc9aa67fc"
      },
      "execution_count": null,
      "outputs": [
        {
          "output_type": "execute_result",
          "data": {
            "text/plain": [
              "TensorShape([1, 6, 6, 512])"
            ]
          },
          "metadata": {},
          "execution_count": 16
        }
      ]
    },
    {
      "cell_type": "code",
      "source": [
        "tf.reshape(patches , shape=(tf.shape(patches)[0], -1 ,2*2*128 ))"
      ],
      "metadata": {
        "colab": {
          "base_uri": "https://localhost:8080/"
        },
        "id": "Um6JPJHzRAGr",
        "outputId": "c02a111a-dcf1-497f-f246-e8a49e28a394"
      },
      "execution_count": null,
      "outputs": [
        {
          "output_type": "execute_result",
          "data": {
            "text/plain": [
              "<tf.Tensor: shape=(1, 36, 512), dtype=float32, numpy=\n",
              "array([[[-0.3983133 , -0.48323166,  0.08266178, ..., -0.04102889,\n",
              "          0.22930819, -0.7151884 ],\n",
              "        [-0.0979531 , -0.26912013, -0.9999731 , ...,  0.52167356,\n",
              "          1.4202849 , -1.7242944 ],\n",
              "        [-0.5770695 ,  0.3112506 ,  1.6219804 , ..., -0.83910805,\n",
              "          0.45026758, -0.17033817],\n",
              "        ...,\n",
              "        [-0.35381168,  0.7342255 ,  0.76474   , ...,  0.9180015 ,\n",
              "         -1.0126871 , -0.66319627],\n",
              "        [ 1.6402308 , -0.5822414 ,  1.1530813 , ...,  0.7195015 ,\n",
              "         -0.31061307, -0.8337957 ],\n",
              "        [-0.48802185,  0.7612229 ,  2.529092  , ..., -0.2833187 ,\n",
              "          0.13183562, -1.5624676 ]]], dtype=float32)>"
            ]
          },
          "metadata": {},
          "execution_count": 17
        }
      ]
    },
    {
      "cell_type": "code",
      "source": [
        "resualt=embed(tf.random.normal(shape=(32,12,12,128)))"
      ],
      "metadata": {
        "colab": {
          "base_uri": "https://localhost:8080/"
        },
        "id": "5GqmksCDPy1B",
        "outputId": "60cf90c9-4f80-41b4-9959-5e723ca4f3ac"
      },
      "execution_count": null,
      "outputs": [
        {
          "output_type": "stream",
          "name": "stdout",
          "text": [
            "patches (32, 36, 256)\n",
            "clstoken (32, 1, 256)\n",
            "patches (32, 37, 256)\n",
            "positionalEmbedding (1, 37, 256)\n"
          ]
        }
      ]
    },
    {
      "cell_type": "code",
      "execution_count": null,
      "metadata": {
        "id": "aKbs2zZqBSeH"
      },
      "outputs": [],
      "source": [
        "class MultiHeadAttention(tf.keras.layers.Layer):\n",
        "  def __init__(self, d_model = 512, num_heads = 8, causal=False, dropout=0.0):\n",
        "    super(MultiHeadAttention, self).__init__()\n",
        "\n",
        "    assert d_model % num_heads == 0\n",
        "    depth = d_model // num_heads\n",
        "\n",
        "    self.w_query = tf.keras.layers.Dense(d_model)\n",
        "    self.split_reshape_query = tf.keras.layers.Reshape((-1,num_heads,depth))  \n",
        "    self.split_permute_query = tf.keras.layers.Permute((2,1,3))      \n",
        "\n",
        "    self.w_value = tf.keras.layers.Dense(d_model)\n",
        "    self.split_reshape_value = tf.keras.layers.Reshape((-1,num_heads,depth))\n",
        "    self.split_permute_value = tf.keras.layers.Permute((2,1,3))\n",
        "\n",
        "    self.w_key = tf.keras.layers.Dense(d_model)\n",
        "    self.split_reshape_key = tf.keras.layers.Reshape((-1,num_heads,depth))\n",
        "    self.split_permute_key = tf.keras.layers.Permute((2,1,3))\n",
        "\n",
        "    self.attention = tf.keras.layers.Attention(causal=causal, dropout=dropout)\n",
        "    self.join_permute_attention = tf.keras.layers.Permute((2,1,3))\n",
        "    self.join_reshape_attention = tf.keras.layers.Reshape((-1,d_model))\n",
        "\n",
        "    self.dense = tf.keras.layers.Dense(d_model)\n",
        "\n",
        "  def get_config(self):\n",
        "        cfg = super().get_config()\n",
        "        return cfg\n",
        "\n",
        "  def call(self, inputs, mask=None, training=None):\n",
        "    q = inputs[0]\n",
        "    v = inputs[1]\n",
        "    k = inputs[2] if len(inputs) > 2 else v\n",
        "\n",
        "    query = self.w_query(q)\n",
        "    #print('query',query.shape)\n",
        "    query = self.split_reshape_query(query)\n",
        "    #print('query',query.shape)    \n",
        "    query = self.split_permute_query(query)  \n",
        "    #print('query',query.shape)               \n",
        "\n",
        "    value = self.w_value(v)\n",
        "    value = self.split_reshape_value(value)\n",
        "    value = self.split_permute_value(value)\n",
        "    #print('value',value.shape)\n",
        "\n",
        "    key = self.w_key(k)\n",
        "    key = self.split_reshape_key(key)\n",
        "    key = self.split_permute_key(key)\n",
        "    #print('key',key.shape)\n",
        "\n",
        "    if mask is not None:\n",
        "      if mask[0] is not None:\n",
        "        mask[0] = tf.keras.layers.Reshape((-1,1))(mask[0])\n",
        "        mask[0] = tf.keras.layers.Permute((2,1))(mask[0])\n",
        "      if mask[1] is not None:\n",
        "        mask[1] = tf.keras.layers.Reshape((-1,1))(mask[1])\n",
        "        mask[1] = tf.keras.layers.Permute((2,1))(mask[1])\n",
        "\n",
        "    attention = self.attention([query, value, key], mask=mask)\n",
        "    attention = self.join_permute_attention(attention)\n",
        "    attention = self.join_reshape_attention(attention)\n",
        "\n",
        "    x = self.dense(attention)\n",
        "\n",
        "    return x"
      ]
    },
    {
      "cell_type": "code",
      "execution_count": null,
      "metadata": {
        "id": "lpU3rE_aBX6_"
      },
      "outputs": [],
      "source": [
        "class transformerLayer1(tf.keras.layers.Layer):\n",
        "  def __init__(self,  d_model = 512, num_heads = 8, dff = 2048, dropout = 0.0):\n",
        "    super(transformerLayer1, self).__init__()\n",
        "\n",
        "    self.multi_head_attention =  MultiHeadAttention(d_model, num_heads)\n",
        "    #self.mha=tf.keras.layers.MultiHeadAttention(num_heads , d_model//num_heads , dropout=dropout)\n",
        "    self.dropout_attention = tf.keras.layers.Dropout(dropout)\n",
        "    self.add_attention = tf.keras.layers.Add()\n",
        "    self.layer_norm_attention = tf.keras.layers.LayerNormalization(epsilon=1e-6)\n",
        "\n",
        "    self.dense1 = tf.keras.layers.Dense(dff, activation='relu')\n",
        "    self.dense2 = tf.keras.layers.Dense(d_model)\n",
        "    self.dropout_dense = tf.keras.layers.Dropout(dropout)\n",
        "    self.add_dense = tf.keras.layers.Add()\n",
        "    self.layer_norm_dense = tf.keras.layers.LayerNormalization(epsilon=1e-6)\n",
        "  def get_config(self):\n",
        "        cfg = super().get_config()\n",
        "        return cfg\n",
        "\n",
        "  def call(self, inputs, mask=None, training=None):\n",
        "    # print(mask)\n",
        "    attention = self.multi_head_attention([inputs,inputs,inputs], mask = [mask,mask])\n",
        "    #attention=self.mha(inputs , inputs , training=training)\n",
        "    attention = self.dropout_attention(attention, training = training)\n",
        "    x = self.add_attention([inputs , attention])\n",
        "    x = self.layer_norm_attention(x)\n",
        "    # x = inputs\n",
        "\n",
        "    ## Feed Forward\n",
        "    dense = self.dense1(x)\n",
        "    dense = self.dense2(dense)\n",
        "    dense = self.dropout_dense(dense, training = training)\n",
        "    x = self.add_dense([x , dense])\n",
        "    x = self.layer_norm_dense(x)\n",
        "\n",
        "    return x"
      ]
    },
    {
      "cell_type": "code",
      "execution_count": null,
      "metadata": {
        "id": "85JZNGlCQFOy"
      },
      "outputs": [],
      "source": [
        "trans=transformerLayer1(128,8,2048)"
      ]
    },
    {
      "cell_type": "code",
      "execution_count": null,
      "metadata": {
        "colab": {
          "base_uri": "https://localhost:8080/"
        },
        "id": "6u1DiNnNQerp",
        "outputId": "824bebd0-f9ff-4c22-cb2f-38d8da7cc3ec"
      },
      "outputs": [
        {
          "output_type": "execute_result",
          "data": {
            "text/plain": [
              "<tf.Tensor: shape=(32, 145, 128), dtype=float32, numpy=\n",
              "array([[[ 0.959501  ,  1.089794  , -0.41329738, ...,  0.26219815,\n",
              "         -1.2889644 , -0.483917  ],\n",
              "        [ 0.29328763, -0.75777644,  0.69454855, ...,  0.11654991,\n",
              "          1.0160824 ,  0.95359325],\n",
              "        [-1.0553534 ,  1.3015571 , -0.45465016, ...,  0.26432958,\n",
              "         -0.6013083 ,  0.59645873],\n",
              "        ...,\n",
              "        [-0.20520483,  1.2858177 ,  1.3764408 , ...,  0.97675097,\n",
              "         -1.5521413 , -0.9549011 ],\n",
              "        [ 0.75707453, -0.24575618, -0.17124456, ..., -0.40727952,\n",
              "          0.87844276,  1.2370319 ],\n",
              "        [ 0.82464814, -0.6458366 , -0.3978269 , ...,  0.126959  ,\n",
              "         -1.9098881 , -0.18396264]],\n",
              "\n",
              "       [[ 1.2308321 , -0.11181029,  0.11463434, ..., -0.4021011 ,\n",
              "         -0.6333492 , -1.2727433 ],\n",
              "        [ 0.5247628 , -0.19136962,  0.11778574, ..., -1.0464709 ,\n",
              "         -0.42525622,  1.1833227 ],\n",
              "        [ 0.79709   ,  0.59102046,  1.0580161 , ...,  0.39414862,\n",
              "          0.41547272,  1.189086  ],\n",
              "        ...,\n",
              "        [-0.79856914,  0.17621027,  0.12639362, ..., -0.3416474 ,\n",
              "         -0.2953819 ,  0.72873247],\n",
              "        [-0.8678739 , -0.01585   , -0.8573055 , ..., -0.18606538,\n",
              "         -0.22207281, -0.91903305],\n",
              "        [ 1.3966439 ,  0.7436952 , -0.23219319, ...,  0.23397326,\n",
              "         -0.19544077,  0.7815501 ]],\n",
              "\n",
              "       [[ 1.2453364 , -0.7648623 , -0.90373605, ..., -0.58987236,\n",
              "         -0.9406809 , -1.5775614 ],\n",
              "        [-0.2963129 , -0.15086597,  0.02152929, ..., -1.4540006 ,\n",
              "          1.0640079 ,  1.7414176 ],\n",
              "        [-0.20399119, -0.49024594,  1.8219018 , ..., -0.5161806 ,\n",
              "          0.01493878,  0.7638238 ],\n",
              "        ...,\n",
              "        [ 1.211607  ,  1.0825309 ,  0.57071126, ..., -0.05437256,\n",
              "         -1.761561  , -1.0674807 ],\n",
              "        [ 1.5706865 ,  0.26205054, -0.51021576, ..., -0.27031633,\n",
              "          0.92986643,  0.21827   ],\n",
              "        [ 1.3507725 ,  0.11743639, -1.5964273 , ..., -0.21847081,\n",
              "         -0.2262145 ,  1.1535093 ]],\n",
              "\n",
              "       ...,\n",
              "\n",
              "       [[ 2.9784615 ,  0.53549343, -0.9404869 , ..., -0.20350258,\n",
              "         -0.42729306, -0.81254405],\n",
              "        [ 0.53395015,  1.7681919 , -0.5065012 , ...,  0.978421  ,\n",
              "          0.53363746,  0.11114727],\n",
              "        [ 1.0737674 , -0.4193832 , -0.4719955 , ..., -1.0715247 ,\n",
              "          1.0298527 ,  2.2484462 ],\n",
              "        ...,\n",
              "        [ 0.70580125, -0.1243483 , -0.58262527, ..., -1.2401754 ,\n",
              "         -0.33845484,  1.3391116 ],\n",
              "        [-1.9795501 ,  0.03005867, -0.11916149, ..., -0.52062976,\n",
              "          1.2889206 , -1.8845342 ],\n",
              "        [ 1.3405465 , -0.76057065, -0.29615766, ..., -1.4270711 ,\n",
              "          0.03628151,  0.6654347 ]],\n",
              "\n",
              "       [[ 1.4413979 ,  1.4950467 ,  0.39789116, ..., -0.2154973 ,\n",
              "         -2.0826142 ,  0.87353414],\n",
              "        [ 1.6500549 , -1.2748656 ,  0.23819235, ...,  0.22285953,\n",
              "          1.1869246 ,  1.7269166 ],\n",
              "        [-1.6228156 ,  0.2191414 ,  0.46816087, ...,  0.32705444,\n",
              "         -0.3560914 , -1.7493093 ],\n",
              "        ...,\n",
              "        [-3.118676  ,  0.22865523,  0.11566564, ..., -0.24103047,\n",
              "         -1.4346441 ,  0.26951632],\n",
              "        [ 1.9179537 ,  2.5770156 ,  0.838927  , ..., -0.41148987,\n",
              "         -0.6856383 ,  1.6969372 ],\n",
              "        [-0.72388536, -0.31735197, -1.2709285 , ..., -0.98141557,\n",
              "         -0.29945597,  0.6288953 ]],\n",
              "\n",
              "       [[ 0.9736174 ,  0.58824104,  0.07732932, ...,  0.63744706,\n",
              "          0.10240957, -0.6058446 ],\n",
              "        [-0.86295563,  1.0986288 ,  0.72005147, ...,  2.0903792 ,\n",
              "         -0.4379905 ,  1.5805945 ],\n",
              "        [-0.5478528 , -0.09955884, -0.7789755 , ...,  0.13770252,\n",
              "          1.1016402 ,  0.66883844],\n",
              "        ...,\n",
              "        [ 0.8160741 , -0.506412  ,  0.2880978 , ..., -1.571414  ,\n",
              "          1.3063147 ,  0.05344947],\n",
              "        [ 0.45100635,  0.3912704 , -0.96850944, ..., -0.38922256,\n",
              "         -1.6930275 ,  0.349134  ],\n",
              "        [ 1.8406048 ,  0.24523713,  0.541416  , ...,  0.9601322 ,\n",
              "         -0.56377697,  1.2624178 ]]], dtype=float32)>"
            ]
          },
          "metadata": {},
          "execution_count": 164
        }
      ],
      "source": [
        "trans(resualt)"
      ]
    },
    {
      "cell_type": "code",
      "execution_count": null,
      "metadata": {
        "id": "p3jWhJuKBgJH"
      },
      "outputs": [],
      "source": [
        "class TransformerEncoder1(tf.keras.layers.Layer):\n",
        "    def __init__(self,d_model , heads, dff ,num_layers=1 ,dropout_rate=0.1):\n",
        "      super().__init__()\n",
        "\n",
        "      self.encoders=[transformerLayer1(d_model , heads , dff , dropout_rate) for _ in range(num_layers)] #stacking transformer layers in range of layers we define\n",
        "\n",
        "    def get_config(self):\n",
        "        cfg = super().get_config()\n",
        "        return cfg \n",
        "    def call(self , inputs , training=True):\n",
        "      x=inputs\n",
        "\n",
        "      for layer in self.encoders:\n",
        "        x=layer(x, training=training)\n",
        "\n",
        "      return x"
      ]
    },
    {
      "cell_type": "code",
      "execution_count": null,
      "metadata": {
        "id": "9JOh1XAQBqrh"
      },
      "outputs": [],
      "source": [
        "class transformerLayer(tf.keras.layers.Layer):\n",
        "    def __init__(self,d_model , heads, mlp_rate , dropout_rate=0.1):\n",
        "      super().__init__()\n",
        "\n",
        "      self.layernorm_1= tf.keras.layers.LayerNormalization(epsilon=1e-6)\n",
        "      self.mha=tf.keras.layers.MultiHeadAttention(heads , d_model//heads , dropout=dropout_rate) #d_model is proj_dim\n",
        "\n",
        "      self.layernorm_2= tf.keras.layers.LayerNormalization(epsilon=1e-6)\n",
        "      self.mlp = tf.keras.Sequential([tf.keras.layers.Dense(d_model*mlp_rate , activation=\"gelu\"),\n",
        "                                      tf.keras.layers.Dropout(dropout_rate),\n",
        "                                      tf.keras.layers.Dense(d_model , activation=\"gelu\"),\n",
        "                                      tf.keras.layers.Dropout(dropout_rate)])\n",
        "    def get_config(self):\n",
        "        cfg = super().get_config()\n",
        "        return cfg \n",
        "      # we use training=True beacuse dropout shoudn't work in evaluation\n",
        "    def call(self ,inputs , training=True):\n",
        "      out_1 =self.layernorm_1(inputs)\n",
        "      out_1=self.mha(out_1 , out_1 , training=training)\n",
        "      out_1=inputs+out_1\n",
        "\n",
        "      out_2=self.layernorm_2(out_1)\n",
        "      out_2=self.mlp(out_2, training=training)\n",
        "      out_2=out_1+ out_2\n",
        "\n",
        "      return out_2"
      ]
    },
    {
      "cell_type": "code",
      "execution_count": null,
      "metadata": {
        "id": "tBegQOrZBrYX"
      },
      "outputs": [],
      "source": [
        "class TransformerEncoder(tf.keras.layers.Layer):\n",
        "    def __init__(self,d_model , heads, mlp_rate ,num_layers=1 ,dropout_rate=0.1):\n",
        "      super().__init__()\n",
        "\n",
        "      self.encoders=[transformerLayer(d_model , heads , mlp_rate , dropout_rate) for _ in range(num_layers)] #stacking transformer layers in range of layers we define\n",
        "\n",
        "    def get_config(self):\n",
        "        cfg = super().get_config()\n",
        "        return cfg \n",
        "    def call(self , inputs , training=True):\n",
        "      x=inputs\n",
        "\n",
        "      for layer in self.encoders:\n",
        "        x=layer(x, training=training)\n",
        "\n",
        "      return x"
      ]
    },
    {
      "cell_type": "code",
      "execution_count": null,
      "metadata": {
        "id": "WLoEhnuG9ipr"
      },
      "outputs": [],
      "source": [
        "def MFM(x):\n",
        "    channels = x.shape[-1]\n",
        "    mfm_out = tfa.layers.Maxout(int(channels / 2))(x)\n",
        "    return mfm_out\n",
        "\n",
        "def MFM_output_shape(input_shape):\n",
        "    shape = list(input_shape)\n",
        "    assert len(shape) == 4\n",
        "    shape[-1] = shape[-1]/2\n",
        "    return tuple(shape)\n",
        "\n",
        "def buildLcnn_T():\n",
        "\tinput_tensor = Input(shape=x_dev.shape[1:],name='input')\n",
        "\tx = Conv2D(32, (5,5), strides=(1,1), kernel_initializer=glorot_normal(),padding='same')(input_tensor)\n",
        "\tx = Lambda(MFM)(x)\n",
        "\tx = MaxPooling2D(pool_size=(2,2),strides=(2,2))(x)\n",
        "\n",
        "\tx = Conv2D(32, (1,1),strides=(1,1),kernel_initializer=glorot_normal(),padding='same')(x)\n",
        "\tx = Lambda(MFM)(x)\n",
        "\tx = Conv2D(64,(3,3),strides=(1,1),kernel_initializer=glorot_normal(),padding='same')(x)\n",
        "\tx = Lambda(MFM)(x)\n",
        "\tx = MaxPooling2D(pool_size=(2,2),strides=(2,2))(x)\n",
        "\n",
        "\tx = Conv2D(64, (1,1), strides=(1,1),kernel_initializer=glorot_normal(),padding='same')(x)\n",
        "\tx = Lambda(MFM)(x)\n",
        "\tx = Conv2D(96, (3,3), strides=(1,1),kernel_initializer=glorot_normal(),padding='same')(x)\n",
        "\tx = Lambda(MFM)(x) \n",
        "\tx = MaxPooling2D(pool_size=(2,2),strides=(2,2))(x)\t\n",
        "\t\n",
        "\tx = Conv2D(96, (1,1), strides=(1,1),kernel_initializer=glorot_normal(),padding='same')(x)\n",
        "\tx = Lambda(MFM)(x)\n",
        "\tx = Conv2D(128, (3,3), strides=(1,1),kernel_initializer=glorot_normal(),padding='same')(x)\n",
        "\tx = Lambda(MFM)(x)\n",
        "\tx = MaxPooling2D(pool_size=(2,2),strides=(2,2))(x)\t\n",
        "\n",
        "\tx = Conv2D(256, (1,1), strides=(1,1),kernel_initializer=glorot_normal(),padding='same')(x)\n",
        "\tx = Lambda(MFM)(x)\n",
        "\tx = Conv2D(256, (3,3), strides=(1,1),kernel_initializer=glorot_normal(),padding='same')(x) \n",
        "\tx = Lambda(MFM)(x)\n",
        "\tx = MaxPooling2D(pool_size=(2,2),strides=(2,2))(x)\n",
        " \n",
        "\n",
        "\tembedding=patchEmbeding2(144,128) #num_of_patches, projection_dim\n",
        "\tx=embedding(x)\n",
        "\tenc=TransformerEncoder1(128,8,1024) #d_model , heads, dff ,num_layers=1 ,dropout_rate=0.1\n",
        "\tencoderResualt=enc(x)\n",
        "\tclsResult=encoderResualt[:,0,:]\n",
        "\tdrop_1=Dropout(0.2)(clsResult)\n",
        "\tdense_1=Dense(2*32 , activation=\"gelu\")(drop_1)\n",
        "\tdrop_2=Dropout(0.2)(dense_1)\n",
        "\toutput=Dense((2), activation = \"softmax\")(drop_2)\n",
        "\tmodel = Model(input_tensor,output)\n",
        "\treturn model"
      ]
    },
    {
      "cell_type": "code",
      "execution_count": null,
      "metadata": {
        "id": "_3CBfvAzAvLQ"
      },
      "outputs": [],
      "source": [
        "def MFM(x):\n",
        "    channels = x.shape[-1]\n",
        "    mfm_out = tfa.layers.Maxout(int(channels / 2))(x)\n",
        "    return mfm_out\n",
        "\n",
        "def MFM_output_shape(input_shape):\n",
        "    shape = list(input_shape)\n",
        "    assert len(shape) == 4\n",
        "    shape[-1] = shape[-1]/2\n",
        "    return tuple(shape)\n",
        "\n",
        "def buildcnn_T_relu():\n",
        "\tinput_tensor = Input(shape=x_dev.shape[1:],name='input')\n",
        "\tx = Conv2D(16, (5,5), strides=(1,1), kernel_initializer=glorot_normal(),padding='same')(input_tensor)\n",
        "\t#x = BatchNormalization()(x)\n",
        "\tx = Activation('relu')(x)\n",
        "\tx = MaxPooling2D(pool_size=(2,2),strides=(2,2))(x)\n",
        "\n",
        "\n",
        "\tx = Conv2D(32,(3,3),strides=(1,1),kernel_initializer=glorot_normal(),padding='same')(x)\n",
        "\t#x = BatchNormalization()(x)\n",
        "\tx = Activation('relu')(x)\n",
        "\tx = MaxPooling2D(pool_size=(2,2),strides=(2,2))(x)\n",
        "\n",
        "\tx = Conv2D(64, (3,3), strides=(1,1),kernel_initializer=glorot_normal(),padding='same')(x)\n",
        "\t#x = BatchNormalization()(x)\n",
        "\tx = Activation('relu')(x) \n",
        "\tx = MaxPooling2D(pool_size=(2,2),strides=(2,2))(x)\t\n",
        "\t\n",
        "\tx = Conv2D(96, (3,3), strides=(1,1),kernel_initializer=glorot_normal(),padding='same')(x)\n",
        "\t#x = BatchNormalization()(x)\n",
        "\tx = Activation('relu')(x)\n",
        "\tx = MaxPooling2D(pool_size=(2,2),strides=(2,2))(x)\t\n",
        "\n",
        "\tx = Conv2D(128, (3,3), strides=(1,1),kernel_initializer=glorot_normal(),padding='same')(x)\n",
        "\t#x = BatchNormalization()(x)\n",
        "\tx = Activation('relu')(x)\n",
        "\tx = MaxPooling2D(pool_size=(2,2),strides=(2,2))(x)\n",
        " \n",
        "\n",
        "\tembedding=patchEmbeding(1,144,128) #num_of_patches, projection_dim\n",
        "\tx=embedding(x)\n",
        "\tenc=TransformerEncoder1(128,8,1024,1,0.3) #d_model , heads, dff ,num_layers=1 ,dropout_rate=0.1\n",
        "\tencoderResualt=enc(x)\n",
        "\tclsResult=encoderResualt[:,0,:]\n",
        "\tdrop_1=Dropout(0.2)(clsResult)\n",
        "\tdense_1=Dense(2*32 , activation=\"gelu\")(drop_1)\n",
        "\tdrop_2=Dropout(0.2)(dense_1)\n",
        "\toutput=Dense((2), activation = \"softmax\")(drop_2)\n",
        "\tmodel = Model(input_tensor,output)\n",
        "\treturn model"
      ]
    },
    {
      "cell_type": "code",
      "execution_count": null,
      "metadata": {
        "id": "oQe-Cx0rLKcO"
      },
      "outputs": [],
      "source": [
        "def cnn_T_with_relu():\n",
        "    input_tensor = Input(shape=x_train.shape[1:],name='input')\n",
        "    x = Conv2D(16, (5,5), strides=(1,1), kernel_initializer=glorot_normal(),padding='same')(input_tensor)\n",
        "    x = Activation(\"relu\")(x)\n",
        "    #x = MaxPooling2D(pool_size=(2,2),strides=(2,2))(x)\n",
        "\n",
        "\n",
        "    x = Conv2D(32,(3,3),strides=(1,1),kernel_initializer=glorot_normal(),padding='same')(x)\n",
        "    x = Activation(\"relu\")(x)\n",
        "    #x = MaxPooling2D(pool_size=(2,2),strides=(2,2))(x)\n",
        "\n",
        "\n",
        "    x = Conv2D(48, (3,3), strides=(1,1),kernel_initializer=glorot_normal(),padding='same')(x)\n",
        "    x = Activation(\"relu\")(x)\n",
        "    #x = MaxPooling2D(pool_size=(2,2),strides=(2,2))(x)\t\n",
        "    \n",
        "\n",
        "    x = Conv2D(64, (3,3), strides=(1,1),kernel_initializer=glorot_normal(),padding='same')(x)\n",
        "    x = Activation(\"relu\")(x)\n",
        "    #x = MaxPooling2D(pool_size=(2,2),strides=(2,2))(x)\t\n",
        "\n",
        "\n",
        "    x = Conv2D(128, (3,3), strides=(1,1),kernel_initializer=glorot_normal(),padding='same')(x) \n",
        "    x = Activation(\"relu\")(x)\n",
        "    #x = MaxPooling2D(pool_size=(2,2),strides=(2,2))(x)\n",
        "\n",
        "    x = Conv2D(256, (3,3), strides=(1,1),kernel_initializer=glorot_normal(),padding='same')(x) \n",
        "    x = Activation(\"relu\")(x)\n",
        "    #x = MaxPooling2D(pool_size=(2,2),strides=(2,2))(x)\n",
        "\n",
        "    x = Conv2D(128, 16, strides=(16,16),kernel_initializer=glorot_normal(),padding='same')(x) \n",
        "    x = Activation(\"relu\")(x)\n",
        "    #x = MaxPooling2D(pool_size=(2,2),strides=(2,2))(x)\n",
        "    x = Flatten()(x)\n",
        "    x = Dropout(0.9)(x)\n",
        "    x = Dense(32,activation='relu')(x)\n",
        "    #x = Dropout(0.5)(x)\n",
        "    x = Dense(num_classes,activation='softmax',name='output')(x)\n",
        "    \n",
        "    model = Model(input_tensor,x)\n",
        "\n",
        "    return model"
      ]
    },
    {
      "cell_type": "code",
      "execution_count": null,
      "metadata": {
        "id": "6re5ABfrJqos"
      },
      "outputs": [],
      "source": [
        "def buildcnn_T_with_relu():\n",
        "    input_tensor = Input(shape=x_train.shape[1:],name='input')\n",
        "    x = Conv2D(16, (5,5), strides=(1,1), kernel_initializer=glorot_normal(),padding='same')(input_tensor)\n",
        "    x = Activation(\"relu\")(x)\n",
        "    x = MaxPooling2D(pool_size=(2,2),strides=(2,2))(x)\n",
        "\n",
        "\n",
        "    x = Conv2D(32,(3,3),strides=(1,1),kernel_initializer=glorot_normal(),padding='same')(x)\n",
        "    x = Activation(\"relu\")(x)\n",
        "    x = MaxPooling2D(pool_size=(2,2),strides=(2,2))(x)\n",
        "\n",
        "\n",
        "    x = Conv2D(48, (3,3), strides=(1,1),kernel_initializer=glorot_normal(),padding='same')(x)\n",
        "    x = Activation(\"relu\")(x)\n",
        "    x = MaxPooling2D(pool_size=(2,2),strides=(2,2))(x)\t\n",
        "    \n",
        " \n",
        "    x = Conv2D(64, (3,3), strides=(1,1),kernel_initializer=glorot_normal(),padding='same')(x)\n",
        "    x = Activation(\"relu\")(x)\n",
        "    x = MaxPooling2D(pool_size=(2,2),strides=(2,2))(x)\t\n",
        "\n",
        "\n",
        "    x = Conv2D(128, (3,3), strides=(1,1),kernel_initializer=glorot_normal(),padding='same')(x) \n",
        "    x = Activation(\"relu\")(x)\n",
        "    x = MaxPooling2D(pool_size=(2,2),strides=(2,2))(x)\n",
        "  \n",
        "\n",
        "    embedding=patchEmbeding2(144,128) #num_of_patches, projection_dim\n",
        "    x=embedding(x)\n",
        "    enc=TransformerEncoder1(128,10,1024) #d_model , heads, dff ,num_layers=1 ,dropout_rate=0.1\n",
        "    encoderResualt=enc(x)\n",
        "    clsResult=encoderResualt[:,0,:]\n",
        "    drop_1=Dropout(0.2)(clsResult)\n",
        "    dense_1=Dense(2*32 , activation=\"gelu\")(drop_1)\n",
        "    drop_2=Dropout(0.2)(dense_1)\n",
        "    output=Dense((2), activation = \"softmax\")(drop_2)\n",
        "    model = Model(input_tensor,output)\n",
        "    return model"
      ]
    },
    {
      "cell_type": "markdown",
      "metadata": {
        "id": "RhTUJcE3l_nM"
      },
      "source": [
        "#Densenet"
      ]
    },
    {
      "cell_type": "code",
      "execution_count": null,
      "metadata": {
        "id": "2jY5cu9jJ3GJ"
      },
      "outputs": [],
      "source": [
        "def Densenet(n_classes=2, f=12):\n",
        "    def bn_rl_conv(x, f, k=1, s=1, p='same'):\n",
        "        x = BatchNormalization()(x)\n",
        "        x = ReLU()(x)\n",
        "        x= Conv2D(f, (k,k), strides=(s,s),kernel_initializer=glorot_normal(),padding='same')(x) \n",
        "        #x = Conv2D(f, k, strides=s, padding=p)(x)\n",
        "        return x\n",
        "  \n",
        "  \n",
        "    def dense_block(tensor, r,dropout_rate):\n",
        "        for _ in range(r):\n",
        "          x = bn_rl_conv(tensor, 4*f)\n",
        "          x = bn_rl_conv(x, f, 3)\n",
        "          if dropout_rate>0:\n",
        "            x = SpatialDropout2D(dropout_rate)(x)\n",
        "          tensor = Concatenate()([tensor, x])\n",
        "        return tensor\n",
        "  \n",
        "  \n",
        "    def transition_block(x,dropout_rate):\n",
        "        x = bn_rl_conv(x, K.int_shape(x)[-1] // 2)\n",
        "        if dropout_rate>0:\n",
        "          x = SpatialDropout2D(dropout_rate)(x)\n",
        "        x = AvgPool2D(2, strides=2)(x)\n",
        "        return x\n",
        "    input = Input(shape=x_train.shape[1:],name='input')\n",
        "    First_Conv2D = Conv2D(12, (7,7), padding='same',strides=(1,1),use_bias=False, kernel_regularizer=keras.regularizers.l2(0.001),kernel_initializer=(keras.initializers.random_normal(stddev=np.sqrt(2.0/(9*16)))))(input)\n",
        "    x = MaxPool2D(3, strides=2)(First_Conv2D)\n",
        "\n",
        "    First_Block = dense_block(x, 6,0)\n",
        "    First_Transition = transition_block(First_Block, 0)\n",
        "\n",
        "    Second_Block = dense_block(First_Transition, 6, 0)\n",
        "    Second_Transition = transition_block(Second_Block, 0)\n",
        "\n",
        "\n",
        "    Third_Block = dense_block(Second_Transition, 6, 0)\n",
        "    Third_Transition = transition_block(Third_Block, 0)\n",
        "\n",
        "    forth_Block = dense_block(Third_Transition, 6, 0)\n",
        "    forth_Transition = transition_block(forth_Block, 0)\n",
        "    x = GlobalAvgPool2D()(forth_Transition)\n",
        "  \n",
        "    output = Dense(n_classes, activation='softmax')(x)\n",
        "  \n",
        "    model = Model(input, output)\n",
        "    return model"
      ]
    },
    {
      "cell_type": "code",
      "execution_count": null,
      "metadata": {
        "id": "IbheN3Yu2bhQ"
      },
      "outputs": [],
      "source": [
        "def Densenet_transformer(n_classes=2, f=12):\n",
        "    def bn_rl_conv(x, f, k=1, s=1, p='same'):\n",
        "        x = BatchNormalization()(x)\n",
        "        x = ReLU()(x)\n",
        "        x= Conv2D(f, (k,k), strides=(s,s),kernel_initializer=glorot_normal(),padding='same')(x) \n",
        "        #x = Conv2D(f, k, strides=s, padding=p)(x)\n",
        "        return x\n",
        "  \n",
        "  \n",
        "    def dense_block(tensor, r,dropout_rate):\n",
        "        for _ in range(r):\n",
        "          x = bn_rl_conv(tensor, 4*f)\n",
        "          x = bn_rl_conv(x, f, 3)\n",
        "          if dropout_rate>0:\n",
        "            x = SpatialDropout2D(dropout_rate)(x)\n",
        "          tensor = Concatenate()([tensor, x])\n",
        "        return tensor\n",
        "  \n",
        "  \n",
        "    def transition_block(x,dropout_rate):\n",
        "        x = bn_rl_conv(x, K.int_shape(x)[-1] // 2)\n",
        "        if dropout_rate>0:\n",
        "          x = SpatialDropout2D(dropout_rate)(x)\n",
        "        x = AvgPool2D(2, strides=2)(x)\n",
        "        return x\n",
        "    input = Input(shape=x_train.shape[1:],name='input')\n",
        "    First_Conv2D = Conv2D(12, (7,7), padding='same',strides=(1,1),use_bias=False, kernel_regularizer=keras.regularizers.l2(0.001),kernel_initializer=(keras.initializers.random_normal(stddev=np.sqrt(2.0/(9*16)))))(input)\n",
        "    x = MaxPool2D(3, strides=2)(First_Conv2D)\n",
        "\n",
        "    First_Block = dense_block(x, 6,0)\n",
        "    First_Transition = transition_block(First_Block, 0)\n",
        "\n",
        "    Second_Block = dense_block(First_Transition, 6, 0)\n",
        "    Second_Transition = transition_block(Second_Block, 0)\n",
        "\n",
        "\n",
        "    Third_Block = dense_block(Second_Transition, 6, 0)\n",
        "    Third_Transition = transition_block(Third_Block, 0)\n",
        "\n",
        "    forth_Block = dense_block(Third_Transition, 6, 0)\n",
        "    forth_Transition = transition_block(forth_Block, 0)\n",
        "    embedding=patchEmbeding2(144,68) #num_of_patches, projection_dim\n",
        "    x=embedding(forth_Transition)\n",
        "    enc=TransformerEncoder1(68,2,1024) #d_model , heads, dff ,num_layers=1 ,dropout_rate=0.1\n",
        "    encoderResualt=enc(x)\n",
        "    clsResult=encoderResualt[:,0,:]\n",
        "    drop_1=Dropout(0.2)(clsResult)\n",
        "    dense_1=Dense(2*32 , activation=\"gelu\")(drop_1)\n",
        "    drop_2=Dropout(0.2)(dense_1)\n",
        "    output=Dense((2), activation = \"softmax\")(drop_2)\n",
        "    model = Model(input,output)\n",
        "    return model"
      ]
    },
    {
      "cell_type": "code",
      "execution_count": null,
      "metadata": {
        "id": "ha4cJJpT9m_g"
      },
      "outputs": [],
      "source": [
        "def block_unit( ):\n",
        "    input_tensor = Input(shape=x_train.shape[1:],name='input')\n",
        "    x = Conv2D(16, (5,5), strides=(1,1), kernel_initializer=glorot_normal(),padding='same')(input_tensor)\n",
        "    x = Lambda(MFM)(x)\n",
        "    x = MaxPooling2D(pool_size=(2,2),strides=(2,2))(x)\n",
        "    \n",
        "    y = Conv2D(16, (1,1),strides=(1,1),kernel_initializer=glorot_normal(),padding='same')(x)\n",
        "    y = Lambda(MFM)(y)\n",
        "    y = Conv2D(24,(3,3),strides=(1,1),kernel_initializer=glorot_normal(),padding='same')(y)\n",
        "    y = Lambda(MFM)(y)\n",
        "    x = concatenate([x,y])\n",
        "    x = MaxPooling2D(pool_size=(2,2),strides=(2,2))(x)\n",
        "    \n",
        "    y = Conv2D(24, (1,1), strides=(1,1),kernel_initializer=glorot_normal(),padding='same')(x)\n",
        "    y = Lambda(MFM)(x)\n",
        "    x = Conv2D(32, (3,3), strides=(1,1),kernel_initializer=glorot_normal(),padding='same')(x)\n",
        "    x = Lambda(MFM)(x)\n",
        "    x = concatenate([x,y])\n",
        "    x = MaxPooling2D(pool_size=(2,2),strides=(2,2))(x)\t\n",
        "    \n",
        "    y = Conv2D(32, (1,1), strides=(1,1),kernel_initializer=glorot_normal(),padding='same')(x)\n",
        "    y = Lambda(MFM)(y)\n",
        "    y = Conv2D(16, (3,3), strides=(1,1),kernel_initializer=glorot_normal(),padding='same')(y)\n",
        "    y = Lambda(MFM)(y)\n",
        "    x = concatenate([x,y])\n",
        "    x = MaxPooling2D(pool_size=(2,2),strides=(2,2))(x)\t\n",
        "    \n",
        "    y = Conv2D(16, (1,1), strides=(1,1),kernel_initializer=glorot_normal(),padding='same')(x)\n",
        "    y = Lambda(MFM)(y)\n",
        "    y = Conv2D(16, (3,3), strides=(1,1),kernel_initializer=glorot_normal(),padding='same')(y) \n",
        "    y = Lambda(MFM)(y)\n",
        "    x = concatenate([x,y])\n",
        "    x = MaxPooling2D(pool_size=(2,2),strides=(2,2))(x)\n",
        "\t\n",
        "    x = Flatten()(x)\n",
        "    x = Dropout(0.7)(x)\n",
        "    x = Dense(64,activation='relu')(x)\n",
        "    x = Dense(num_classes,activation='softmax',name='output')(x)\n",
        "    \n",
        "    model = Model(input_tensor,x)    \n",
        "    return model"
      ]
    },
    {
      "cell_type": "code",
      "execution_count": null,
      "metadata": {
        "id": "ci_BU_0n9q3w"
      },
      "outputs": [],
      "source": [
        "def buildNIN():\n",
        "    input_tensor = Input(shape=x_train.shape[1:],name='input')\n",
        "    x = Conv2D(64, (3,3), strides=(1,1), kernel_initializer=glorot_normal(),padding='same')(input_tensor)\n",
        "    x = Activation('relu')(x)\n",
        "    x = Conv2D(64, (1,1), strides=(1,1),kernel_initializer=glorot_normal(),padding='same')(x)\n",
        "    x = Activation('relu')(x)\n",
        "    x = Conv2D(32, (1,1), strides=(1,1),kernel_initializer=glorot_normal(),padding='same')(x)\n",
        "    x = Activation('relu')(x)\n",
        "    x = MaxPooling2D(pool_size=(2,2),strides=(2,2))(x)\n",
        "    \n",
        "    x = Conv2D(64,(3,3),strides=(1,1),kernel_initializer=glorot_normal(),padding='same')(x)\n",
        "    x = Activation('relu')(x)\n",
        "    x = Conv2D(64, (1,1), strides=(1,1),kernel_initializer=glorot_normal(),padding='same')(x)\n",
        "    x = Activation('relu')(x)\n",
        "    x = Conv2D(16, (1,1), strides=(1,1),kernel_initializer=glorot_normal(),padding='same')(x)\n",
        "    x = Activation('relu')(x)\n",
        "    x = MaxPooling2D(pool_size=(2,2),strides=(2,2))(x)\n",
        "    \n",
        "    x = Conv2D(8,(3,3),strides=(1,1),kernel_initializer=glorot_normal(),padding='same')(x)\n",
        "    x = Activation('relu')(x)\n",
        "    x = Conv2D(4, (1,1), strides=(1,1),kernel_initializer=glorot_normal(),padding='same')(x)\n",
        "    x = Activation('relu')(x)    \n",
        "    x = Conv2D(2, (1,1), strides=(1,1),kernel_initializer=glorot_normal(),padding='same')(x)\n",
        "    x = Activation('relu')(x)   \n",
        "    \n",
        "    x = GlobalAveragePooling2D(name='GAP')(x)\n",
        "    x = Activation('softmax')(x)\n",
        "    \n",
        "    model = Model(input_tensor,x)\n",
        "    return model"
      ]
    },
    {
      "cell_type": "code",
      "execution_count": null,
      "metadata": {
        "colab": {
          "base_uri": "https://localhost:8080/"
        },
        "id": "UEqpo7oY9SYR",
        "outputId": "634bc079-372f-40a5-b4e6-f463fc560557"
      },
      "outputs": [
        {
          "output_type": "execute_result",
          "data": {
            "text/plain": [
              "5814"
            ]
          },
          "metadata": {},
          "execution_count": 33
        }
      ],
      "source": [
        "import gc\n",
        "gc.collect()"
      ]
    },
    {
      "cell_type": "code",
      "execution_count": null,
      "metadata": {
        "colab": {
          "base_uri": "https://localhost:8080/",
          "height": 1000
        },
        "id": "iaYd3Ytq_LT5",
        "outputId": "62fb3860-f55e-4821-8f16-c1f70c429324"
      },
      "outputs": [
        {
          "output_type": "stream",
          "name": "stdout",
          "text": [
            "Model: \"model\"\n",
            "_________________________________________________________________\n",
            " Layer (type)                Output Shape              Param #   \n",
            "=================================================================\n",
            " input (InputLayer)          [(None, 400, 400, 1)]     0         \n",
            "                                                                 \n",
            " conv2d (Conv2D)             (None, 400, 400, 16)      416       \n",
            "                                                                 \n",
            " activation (Activation)     (None, 400, 400, 16)      0         \n",
            "                                                                 \n",
            " max_pooling2d (MaxPooling2D  (None, 200, 200, 16)     0         \n",
            " )                                                               \n",
            "                                                                 \n",
            " conv2d_1 (Conv2D)           (None, 200, 200, 32)      4640      \n",
            "                                                                 \n",
            " activation_1 (Activation)   (None, 200, 200, 32)      0         \n",
            "                                                                 \n",
            " max_pooling2d_1 (MaxPooling  (None, 100, 100, 32)     0         \n",
            " 2D)                                                             \n",
            "                                                                 \n",
            " conv2d_2 (Conv2D)           (None, 100, 100, 64)      18496     \n",
            "                                                                 \n",
            " activation_2 (Activation)   (None, 100, 100, 64)      0         \n",
            "                                                                 \n",
            " max_pooling2d_2 (MaxPooling  (None, 50, 50, 64)       0         \n",
            " 2D)                                                             \n",
            "                                                                 \n",
            " conv2d_3 (Conv2D)           (None, 50, 50, 96)        55392     \n",
            "                                                                 \n",
            " activation_3 (Activation)   (None, 50, 50, 96)        0         \n",
            "                                                                 \n",
            " max_pooling2d_3 (MaxPooling  (None, 25, 25, 96)       0         \n",
            " 2D)                                                             \n",
            "                                                                 \n",
            " conv2d_4 (Conv2D)           (None, 25, 25, 128)       110720    \n",
            "                                                                 \n",
            " activation_4 (Activation)   (None, 25, 25, 128)       0         \n",
            "                                                                 \n",
            " max_pooling2d_4 (MaxPooling  (None, 12, 12, 128)      0         \n",
            " 2D)                                                             \n",
            "                                                                 \n",
            " patch_embeding (patchEmbedi  (None, 145, 128)         35200     \n",
            " ng)                                                             \n",
            "                                                                 \n",
            " transformer_encoder1 (Trans  (None, 145, 128)         329856    \n",
            " formerEncoder1)                                                 \n",
            "                                                                 \n",
            " tf.__operators__.getitem (S  (None, 128)              0         \n",
            " licingOpLambda)                                                 \n",
            "                                                                 \n",
            " dropout_2 (Dropout)         (None, 128)               0         \n",
            "                                                                 \n",
            " dense_7 (Dense)             (None, 64)                8256      \n",
            "                                                                 \n",
            " dropout_3 (Dropout)         (None, 64)                0         \n",
            "                                                                 \n",
            " dense_8 (Dense)             (None, 2)                 130       \n",
            "                                                                 \n",
            "=================================================================\n",
            "Total params: 563,106\n",
            "Trainable params: 563,106\n",
            "Non-trainable params: 0\n",
            "_________________________________________________________________\n",
            "None\n"
          ]
        },
        {
          "output_type": "execute_result",
          "data": {
            "image/png": "[encoded data removed]",
            "text/plain": [
              "<IPython.core.display.Image object>"
            ]
          },
          "metadata": {},
          "execution_count": 26
        }
      ],
      "source": [
        "model = buildcnn_T_relu()\n",
        "\n",
        "print(model.summary())\n",
        "from tensorflow.keras.utils import plot_model\n",
        "plot_model(model,to_file='model.png', show_shapes=True)"
      ]
    },
    {
      "cell_type": "code",
      "execution_count": null,
      "metadata": {
        "id": "ZynktHDcm86u"
      },
      "outputs": [],
      "source": [
        "sgd = tf.keras.optimizers.SGD(learning_rate=0.0001,momentum=0.9,nesterov=True)\n",
        "adadelta = tf.keras.optimizers.Adadelta(learning_rate=1.0, rho=0.9, epsilon=1e-6)\n",
        "adam =tf.keras.optimizers.Adam(learning_rate=1e-5,beta_1=0.9,beta_2=0.999,epsilon=1e-8) \n",
        "model.compile(loss='categorical_crossentropy',optimizer=sgd,metrics=['accuracy'])\n",
        "#model.compile(loss=tf.keras.losses.CategoricalCrossentropy(label_smoothing=0.2),optimizer=sgd,metrics=['accuracy'])\n",
        "#model.compile(optimizer=adam,loss=keras.losses.BinaryCrossentropy(from_logits=False), metrics=[keras.metrics.BinaryAccuracy()])"
      ]
    },
    {
      "cell_type": "code",
      "execution_count": null,
      "metadata": {
        "id": "PMF4G2Lu-cs6"
      },
      "outputs": [],
      "source": [
        "nb_train_samples = x_train.shape[0]\n",
        "    \n",
        "train_datagen = ImageDataGenerator(\n",
        "            featurewise_center=False,  # set input mean to 0 over the dataset\n",
        "            samplewise_center=False,  # set each sample mean to 0\n",
        "            featurewise_std_normalization=False,  # divide inputs by std of the dataset\n",
        "            samplewise_std_normalization=False,  # divide each input by its std\n",
        "            zca_whitening=False,  # apply ZCA whitening\n",
        "            rotation_range=0,  # randomly rotate images in the range (degrees, 0 to 180)\n",
        "            width_shift_range=0,  # randomly shift images horizontally (fraction of total width)\n",
        "            height_shift_range=0,  # randomly shift images vertically (fraction of total height)\n",
        "            horizontal_flip=False,  # randomly flip images\n",
        "            vertical_flip=False)  # randomly flip images\n",
        "    \t# Compute quantities required for feature-wise normalization\n",
        "    \t# (std, mean, and principal components if ZCA whitening is applied).\n",
        "    \n",
        "train_datagen.fit(x_train)\n",
        "train_generator = train_datagen.flow(x_train, y_train,batch_size=batch_size)\n",
        "validation_data=(x_dev,y_dev)"
      ]
    },
    {
      "cell_type": "code",
      "execution_count": null,
      "metadata": {
        "id": "ZaFhQ6KO9SFx"
      },
      "outputs": [],
      "source": [
        "#history1 = LossHistory()\n",
        "#eer_metric = EERMetricCallback(predict_batch_size=batch_size,validation_data=validation_data)\n",
        "#performance_cbk = PerformanceVisualizationCallback(\n",
        "#                      model=model,\n",
        "#                      validation_data=validation_data,\n",
        "#                      image_dir='/content/drive/Shareddrives/Unlimited Drive | @LicenseMarket/confusion_matrix',predict_batch_size=batch_size)"
      ]
    },
    {
      "cell_type": "code",
      "execution_count": null,
      "metadata": {
        "id": "1Yu-r6d19VLh"
      },
      "outputs": [],
      "source": [
        "cb=[#history1,\n",
        "    #eer_metric,\n",
        "    #performance_cbk,\n",
        "    #wechat_utils.sendmessage(savelog=True,fexten='TEST'),\n",
        "    ModelCheckpoint(best_model_file,monitor='val_loss',verbose=1,save_best_only=True,mode='min'),\n",
        "    #LearningRateScheduler(lr_scheduler),\n",
        "    EarlyStopping(monitor='val_loss',patience=patience,verbose=1,mode='min', restore_best_weights=True)\n",
        "    ]"
      ]
    },
    {
      "cell_type": "code",
      "execution_count": null,
      "metadata": {
        "colab": {
          "base_uri": "https://localhost:8080/"
        },
        "id": "gRNyyjko_XFi",
        "outputId": "d01a19e5-6ae6-45c5-8d32-0fc714adefe8"
      },
      "outputs": [
        {
          "output_type": "stream",
          "name": "stdout",
          "text": [
            "Epoch 1/100\n",
            "48/48 [==============================] - ETA: 0s - loss: 0.8508 - accuracy: 0.5086\n",
            "Epoch 1: val_loss improved from inf to 0.68444, saving model to /content/drive/Shareddrives/Unlimited Drive | @LicenseMarket/models/LightCnn_blackman_frames864_sgd_epochs_batch32.h5\n",
            "48/48 [==============================] - 17s 320ms/step - loss: 0.8508 - accuracy: 0.5086 - val_loss: 0.6844 - val_accuracy: 0.4784\n",
            "Epoch 2/100\n",
            "48/48 [==============================] - ETA: 0s - loss: 0.7710 - accuracy: 0.5338\n",
            "Epoch 2: val_loss improved from 0.68444 to 0.66490, saving model to /content/drive/Shareddrives/Unlimited Drive | @LicenseMarket/models/LightCnn_blackman_frames864_sgd_epochs_batch32.h5\n",
            "48/48 [==============================] - 14s 281ms/step - loss: 0.7710 - accuracy: 0.5338 - val_loss: 0.6649 - val_accuracy: 0.6772\n",
            "Epoch 3/100\n",
            "48/48 [==============================] - ETA: 0s - loss: 0.7299 - accuracy: 0.5461\n",
            "Epoch 3: val_loss did not improve from 0.66490\n",
            "48/48 [==============================] - 13s 272ms/step - loss: 0.7299 - accuracy: 0.5461 - val_loss: 0.6736 - val_accuracy: 0.5404\n",
            "Epoch 4/100\n",
            "47/48 [============================>.] - ETA: 0s - loss: 0.7071 - accuracy: 0.5618\n",
            "Epoch 4: val_loss did not improve from 0.66490\n",
            "48/48 [==============================] - 13s 267ms/step - loss: 0.7069 - accuracy: 0.5617 - val_loss: 0.6650 - val_accuracy: 0.6099\n",
            "Epoch 5/100\n",
            "48/48 [==============================] - ETA: 0s - loss: 0.7007 - accuracy: 0.5587\n",
            "Epoch 5: val_loss improved from 0.66490 to 0.66057, saving model to /content/drive/Shareddrives/Unlimited Drive | @LicenseMarket/models/LightCnn_blackman_frames864_sgd_epochs_batch32.h5\n",
            "48/48 [==============================] - 13s 278ms/step - loss: 0.7007 - accuracy: 0.5587 - val_loss: 0.6606 - val_accuracy: 0.6561\n",
            "Epoch 6/100\n",
            "48/48 [==============================] - ETA: 0s - loss: 0.6873 - accuracy: 0.5756\n",
            "Epoch 6: val_loss improved from 0.66057 to 0.65343, saving model to /content/drive/Shareddrives/Unlimited Drive | @LicenseMarket/models/LightCnn_blackman_frames864_sgd_epochs_batch32.h5\n",
            "48/48 [==============================] - 13s 279ms/step - loss: 0.6873 - accuracy: 0.5756 - val_loss: 0.6534 - val_accuracy: 0.6719\n",
            "Epoch 7/100\n",
            "48/48 [==============================] - ETA: 0s - loss: 0.6832 - accuracy: 0.5766\n",
            "Epoch 7: val_loss improved from 0.65343 to 0.64919, saving model to /content/drive/Shareddrives/Unlimited Drive | @LicenseMarket/models/LightCnn_blackman_frames864_sgd_epochs_batch32.h5\n",
            "48/48 [==============================] - 13s 281ms/step - loss: 0.6832 - accuracy: 0.5766 - val_loss: 0.6492 - val_accuracy: 0.6579\n",
            "Epoch 8/100\n",
            "48/48 [==============================] - ETA: 0s - loss: 0.6858 - accuracy: 0.5836\n",
            "Epoch 8: val_loss did not improve from 0.64919\n",
            "48/48 [==============================] - 13s 266ms/step - loss: 0.6858 - accuracy: 0.5836 - val_loss: 0.6525 - val_accuracy: 0.6398\n",
            "Epoch 9/100\n",
            "48/48 [==============================] - ETA: 0s - loss: 0.6710 - accuracy: 0.5912\n",
            "Epoch 9: val_loss did not improve from 0.64919\n",
            "48/48 [==============================] - 13s 266ms/step - loss: 0.6710 - accuracy: 0.5912 - val_loss: 0.6500 - val_accuracy: 0.6339\n",
            "Epoch 10/100\n",
            "48/48 [==============================] - ETA: 0s - loss: 0.6681 - accuracy: 0.5916\n",
            "Epoch 10: val_loss improved from 0.64919 to 0.64756, saving model to /content/drive/Shareddrives/Unlimited Drive | @LicenseMarket/models/LightCnn_blackman_frames864_sgd_epochs_batch32.h5\n",
            "48/48 [==============================] - 14s 281ms/step - loss: 0.6681 - accuracy: 0.5916 - val_loss: 0.6476 - val_accuracy: 0.6497\n",
            "Epoch 11/100\n",
            "48/48 [==============================] - ETA: 0s - loss: 0.6565 - accuracy: 0.5919\n",
            "Epoch 11: val_loss improved from 0.64756 to 0.64158, saving model to /content/drive/Shareddrives/Unlimited Drive | @LicenseMarket/models/LightCnn_blackman_frames864_sgd_epochs_batch32.h5\n",
            "48/48 [==============================] - 14s 282ms/step - loss: 0.6565 - accuracy: 0.5919 - val_loss: 0.6416 - val_accuracy: 0.6836\n",
            "Epoch 12/100\n",
            "48/48 [==============================] - ETA: 0s - loss: 0.6466 - accuracy: 0.6121\n",
            "Epoch 12: val_loss did not improve from 0.64158\n",
            "48/48 [==============================] - 13s 274ms/step - loss: 0.6466 - accuracy: 0.6121 - val_loss: 0.6448 - val_accuracy: 0.6491\n",
            "Epoch 13/100\n",
            "48/48 [==============================] - ETA: 0s - loss: 0.6475 - accuracy: 0.5939\n",
            "Epoch 13: val_loss improved from 0.64158 to 0.63904, saving model to /content/drive/Shareddrives/Unlimited Drive | @LicenseMarket/models/LightCnn_blackman_frames864_sgd_epochs_batch32.h5\n",
            "48/48 [==============================] - 13s 277ms/step - loss: 0.6475 - accuracy: 0.5939 - val_loss: 0.6390 - val_accuracy: 0.6854\n",
            "Epoch 14/100\n",
            "48/48 [==============================] - ETA: 0s - loss: 0.6547 - accuracy: 0.5883\n",
            "Epoch 14: val_loss improved from 0.63904 to 0.63630, saving model to /content/drive/Shareddrives/Unlimited Drive | @LicenseMarket/models/LightCnn_blackman_frames864_sgd_epochs_batch32.h5\n",
            "48/48 [==============================] - 13s 276ms/step - loss: 0.6547 - accuracy: 0.5883 - val_loss: 0.6363 - val_accuracy: 0.6830\n",
            "Epoch 15/100\n",
            "48/48 [==============================] - ETA: 0s - loss: 0.6489 - accuracy: 0.5989\n",
            "Epoch 15: val_loss did not improve from 0.63630\n",
            "48/48 [==============================] - 13s 266ms/step - loss: 0.6489 - accuracy: 0.5989 - val_loss: 0.6368 - val_accuracy: 0.6526\n",
            "Epoch 16/100\n",
            "48/48 [==============================] - ETA: 0s - loss: 0.6404 - accuracy: 0.6128\n",
            "Epoch 16: val_loss improved from 0.63630 to 0.63473, saving model to /content/drive/Shareddrives/Unlimited Drive | @LicenseMarket/models/LightCnn_blackman_frames864_sgd_epochs_batch32.h5\n",
            "48/48 [==============================] - 13s 278ms/step - loss: 0.6404 - accuracy: 0.6128 - val_loss: 0.6347 - val_accuracy: 0.6503\n",
            "Epoch 17/100\n",
            "48/48 [==============================] - ETA: 0s - loss: 0.6310 - accuracy: 0.6148\n",
            "Epoch 17: val_loss improved from 0.63473 to 0.63178, saving model to /content/drive/Shareddrives/Unlimited Drive | @LicenseMarket/models/LightCnn_blackman_frames864_sgd_epochs_batch32.h5\n",
            "48/48 [==============================] - 13s 280ms/step - loss: 0.6310 - accuracy: 0.6148 - val_loss: 0.6318 - val_accuracy: 0.6684\n",
            "Epoch 18/100\n",
            "48/48 [==============================] - ETA: 0s - loss: 0.6433 - accuracy: 0.6055\n",
            "Epoch 18: val_loss did not improve from 0.63178\n",
            "48/48 [==============================] - 13s 266ms/step - loss: 0.6433 - accuracy: 0.6055 - val_loss: 0.6377 - val_accuracy: 0.6211\n",
            "Epoch 19/100\n",
            "48/48 [==============================] - ETA: 0s - loss: 0.6373 - accuracy: 0.6148\n",
            "Epoch 19: val_loss improved from 0.63178 to 0.63144, saving model to /content/drive/Shareddrives/Unlimited Drive | @LicenseMarket/models/LightCnn_blackman_frames864_sgd_epochs_batch32.h5\n",
            "48/48 [==============================] - 13s 278ms/step - loss: 0.6373 - accuracy: 0.6148 - val_loss: 0.6314 - val_accuracy: 0.6462\n",
            "Epoch 20/100\n",
            "48/48 [==============================] - ETA: 0s - loss: 0.6228 - accuracy: 0.6264\n",
            "Epoch 20: val_loss improved from 0.63144 to 0.62880, saving model to /content/drive/Shareddrives/Unlimited Drive | @LicenseMarket/models/LightCnn_blackman_frames864_sgd_epochs_batch32.h5\n",
            "48/48 [==============================] - 14s 282ms/step - loss: 0.6228 - accuracy: 0.6264 - val_loss: 0.6288 - val_accuracy: 0.6503\n",
            "Epoch 21/100\n",
            "48/48 [==============================] - ETA: 0s - loss: 0.6242 - accuracy: 0.6307\n",
            "Epoch 21: val_loss improved from 0.62880 to 0.62427, saving model to /content/drive/Shareddrives/Unlimited Drive | @LicenseMarket/models/LightCnn_blackman_frames864_sgd_epochs_batch32.h5\n",
            "48/48 [==============================] - 13s 279ms/step - loss: 0.6242 - accuracy: 0.6307 - val_loss: 0.6243 - val_accuracy: 0.6754\n",
            "Epoch 22/100\n",
            "48/48 [==============================] - ETA: 0s - loss: 0.6192 - accuracy: 0.6241\n",
            "Epoch 22: val_loss improved from 0.62427 to 0.62257, saving model to /content/drive/Shareddrives/Unlimited Drive | @LicenseMarket/models/LightCnn_blackman_frames864_sgd_epochs_batch32.h5\n",
            "48/48 [==============================] - 13s 279ms/step - loss: 0.6192 - accuracy: 0.6241 - val_loss: 0.6226 - val_accuracy: 0.6743\n",
            "Epoch 23/100\n",
            "48/48 [==============================] - ETA: 0s - loss: 0.6206 - accuracy: 0.6307\n",
            "Epoch 23: val_loss improved from 0.62257 to 0.62080, saving model to /content/drive/Shareddrives/Unlimited Drive | @LicenseMarket/models/LightCnn_blackman_frames864_sgd_epochs_batch32.h5\n",
            "48/48 [==============================] - 13s 279ms/step - loss: 0.6206 - accuracy: 0.6307 - val_loss: 0.6208 - val_accuracy: 0.6836\n",
            "Epoch 24/100\n",
            "48/48 [==============================] - ETA: 0s - loss: 0.6291 - accuracy: 0.6231\n",
            "Epoch 24: val_loss improved from 0.62080 to 0.62045, saving model to /content/drive/Shareddrives/Unlimited Drive | @LicenseMarket/models/LightCnn_blackman_frames864_sgd_epochs_batch32.h5\n",
            "48/48 [==============================] - 13s 279ms/step - loss: 0.6291 - accuracy: 0.6231 - val_loss: 0.6205 - val_accuracy: 0.6749\n",
            "Epoch 25/100\n",
            "48/48 [==============================] - ETA: 0s - loss: 0.6190 - accuracy: 0.6317\n",
            "Epoch 25: val_loss did not improve from 0.62045\n",
            "48/48 [==============================] - 13s 271ms/step - loss: 0.6190 - accuracy: 0.6317 - val_loss: 0.6206 - val_accuracy: 0.6772\n",
            "Epoch 26/100\n",
            "48/48 [==============================] - ETA: 0s - loss: 0.6223 - accuracy: 0.6321\n",
            "Epoch 26: val_loss improved from 0.62045 to 0.61963, saving model to /content/drive/Shareddrives/Unlimited Drive | @LicenseMarket/models/LightCnn_blackman_frames864_sgd_epochs_batch32.h5\n",
            "48/48 [==============================] - 13s 280ms/step - loss: 0.6223 - accuracy: 0.6321 - val_loss: 0.6196 - val_accuracy: 0.6743\n",
            "Epoch 27/100\n",
            "48/48 [==============================] - ETA: 0s - loss: 0.6099 - accuracy: 0.6437\n",
            "Epoch 27: val_loss improved from 0.61963 to 0.61729, saving model to /content/drive/Shareddrives/Unlimited Drive | @LicenseMarket/models/LightCnn_blackman_frames864_sgd_epochs_batch32.h5\n",
            "48/48 [==============================] - 13s 279ms/step - loss: 0.6099 - accuracy: 0.6437 - val_loss: 0.6173 - val_accuracy: 0.6743\n",
            "Epoch 28/100\n",
            "48/48 [==============================] - ETA: 0s - loss: 0.6145 - accuracy: 0.6370\n",
            "Epoch 28: val_loss improved from 0.61729 to 0.61553, saving model to /content/drive/Shareddrives/Unlimited Drive | @LicenseMarket/models/LightCnn_blackman_frames864_sgd_epochs_batch32.h5\n",
            "48/48 [==============================] - 13s 280ms/step - loss: 0.6145 - accuracy: 0.6370 - val_loss: 0.6155 - val_accuracy: 0.6830\n",
            "Epoch 29/100\n",
            "48/48 [==============================] - ETA: 0s - loss: 0.6078 - accuracy: 0.6480\n",
            "Epoch 29: val_loss improved from 0.61553 to 0.61551, saving model to /content/drive/Shareddrives/Unlimited Drive | @LicenseMarket/models/LightCnn_blackman_frames864_sgd_epochs_batch32.h5\n",
            "48/48 [==============================] - 13s 280ms/step - loss: 0.6078 - accuracy: 0.6480 - val_loss: 0.6155 - val_accuracy: 0.6778\n",
            "Epoch 30/100\n",
            "48/48 [==============================] - ETA: 0s - loss: 0.6062 - accuracy: 0.6403\n",
            "Epoch 30: val_loss improved from 0.61551 to 0.61302, saving model to /content/drive/Shareddrives/Unlimited Drive | @LicenseMarket/models/LightCnn_blackman_frames864_sgd_epochs_batch32.h5\n",
            "48/48 [==============================] - 13s 278ms/step - loss: 0.6062 - accuracy: 0.6403 - val_loss: 0.6130 - val_accuracy: 0.7018\n",
            "Epoch 31/100\n",
            "48/48 [==============================] - ETA: 0s - loss: 0.6097 - accuracy: 0.6360\n",
            "Epoch 31: val_loss improved from 0.61302 to 0.61107, saving model to /content/drive/Shareddrives/Unlimited Drive | @LicenseMarket/models/LightCnn_blackman_frames864_sgd_epochs_batch32.h5\n",
            "48/48 [==============================] - 13s 280ms/step - loss: 0.6097 - accuracy: 0.6360 - val_loss: 0.6111 - val_accuracy: 0.6953\n",
            "Epoch 32/100\n",
            "48/48 [==============================] - ETA: 0s - loss: 0.5955 - accuracy: 0.6616\n",
            "Epoch 32: val_loss improved from 0.61107 to 0.61095, saving model to /content/drive/Shareddrives/Unlimited Drive | @LicenseMarket/models/LightCnn_blackman_frames864_sgd_epochs_batch32.h5\n",
            "48/48 [==============================] - 13s 278ms/step - loss: 0.5955 - accuracy: 0.6616 - val_loss: 0.6109 - val_accuracy: 0.6895\n",
            "Epoch 33/100\n",
            "48/48 [==============================] - ETA: 0s - loss: 0.6003 - accuracy: 0.6629\n",
            "Epoch 33: val_loss did not improve from 0.61095\n",
            "48/48 [==============================] - 13s 265ms/step - loss: 0.6003 - accuracy: 0.6629 - val_loss: 0.6138 - val_accuracy: 0.7053\n",
            "Epoch 34/100\n",
            "48/48 [==============================] - ETA: 0s - loss: 0.6022 - accuracy: 0.6566\n",
            "Epoch 34: val_loss improved from 0.61095 to 0.60744, saving model to /content/drive/Shareddrives/Unlimited Drive | @LicenseMarket/models/LightCnn_blackman_frames864_sgd_epochs_batch32.h5\n",
            "48/48 [==============================] - 13s 277ms/step - loss: 0.6022 - accuracy: 0.6566 - val_loss: 0.6074 - val_accuracy: 0.7076\n",
            "Epoch 35/100\n",
            "48/48 [==============================] - ETA: 0s - loss: 0.5950 - accuracy: 0.6539\n",
            "Epoch 35: val_loss improved from 0.60744 to 0.60726, saving model to /content/drive/Shareddrives/Unlimited Drive | @LicenseMarket/models/LightCnn_blackman_frames864_sgd_epochs_batch32.h5\n",
            "48/48 [==============================] - 13s 280ms/step - loss: 0.5950 - accuracy: 0.6539 - val_loss: 0.6073 - val_accuracy: 0.6602\n",
            "Epoch 36/100\n",
            "48/48 [==============================] - ETA: 0s - loss: 0.5861 - accuracy: 0.6778\n",
            "Epoch 36: val_loss improved from 0.60726 to 0.60399, saving model to /content/drive/Shareddrives/Unlimited Drive | @LicenseMarket/models/LightCnn_blackman_frames864_sgd_epochs_batch32.h5\n",
            "48/48 [==============================] - 13s 280ms/step - loss: 0.5861 - accuracy: 0.6778 - val_loss: 0.6040 - val_accuracy: 0.7129\n",
            "Epoch 37/100\n",
            "48/48 [==============================] - ETA: 0s - loss: 0.5834 - accuracy: 0.6735\n",
            "Epoch 37: val_loss improved from 0.60399 to 0.59772, saving model to /content/drive/Shareddrives/Unlimited Drive | @LicenseMarket/models/LightCnn_blackman_frames864_sgd_epochs_batch32.h5\n",
            "48/48 [==============================] - 14s 282ms/step - loss: 0.5834 - accuracy: 0.6735 - val_loss: 0.5977 - val_accuracy: 0.7082\n",
            "Epoch 38/100\n",
            "48/48 [==============================] - ETA: 0s - loss: 0.5864 - accuracy: 0.6715\n",
            "Epoch 38: val_loss improved from 0.59772 to 0.59561, saving model to /content/drive/Shareddrives/Unlimited Drive | @LicenseMarket/models/LightCnn_blackman_frames864_sgd_epochs_batch32.h5\n",
            "48/48 [==============================] - 13s 279ms/step - loss: 0.5864 - accuracy: 0.6715 - val_loss: 0.5956 - val_accuracy: 0.7175\n",
            "Epoch 39/100\n",
            "48/48 [==============================] - ETA: 0s - loss: 0.5776 - accuracy: 0.6904\n",
            "Epoch 39: val_loss improved from 0.59561 to 0.59255, saving model to /content/drive/Shareddrives/Unlimited Drive | @LicenseMarket/models/LightCnn_blackman_frames864_sgd_epochs_batch32.h5\n",
            "48/48 [==============================] - 13s 279ms/step - loss: 0.5776 - accuracy: 0.6904 - val_loss: 0.5926 - val_accuracy: 0.7152\n",
            "Epoch 40/100\n",
            "48/48 [==============================] - ETA: 0s - loss: 0.5753 - accuracy: 0.6841\n",
            "Epoch 40: val_loss improved from 0.59255 to 0.58889, saving model to /content/drive/Shareddrives/Unlimited Drive | @LicenseMarket/models/LightCnn_blackman_frames864_sgd_epochs_batch32.h5\n",
            "48/48 [==============================] - 13s 280ms/step - loss: 0.5753 - accuracy: 0.6841 - val_loss: 0.5889 - val_accuracy: 0.7041\n",
            "Epoch 41/100\n",
            "48/48 [==============================] - ETA: 0s - loss: 0.5652 - accuracy: 0.6991\n",
            "Epoch 41: val_loss improved from 0.58889 to 0.58431, saving model to /content/drive/Shareddrives/Unlimited Drive | @LicenseMarket/models/LightCnn_blackman_frames864_sgd_epochs_batch32.h5\n",
            "48/48 [==============================] - 13s 279ms/step - loss: 0.5652 - accuracy: 0.6991 - val_loss: 0.5843 - val_accuracy: 0.7111\n",
            "Epoch 42/100\n",
            "48/48 [==============================] - ETA: 0s - loss: 0.5651 - accuracy: 0.6934\n",
            "Epoch 42: val_loss improved from 0.58431 to 0.58265, saving model to /content/drive/Shareddrives/Unlimited Drive | @LicenseMarket/models/LightCnn_blackman_frames864_sgd_epochs_batch32.h5\n",
            "48/48 [==============================] - 13s 280ms/step - loss: 0.5651 - accuracy: 0.6934 - val_loss: 0.5827 - val_accuracy: 0.6918\n",
            "Epoch 43/100\n",
            "48/48 [==============================] - ETA: 0s - loss: 0.5646 - accuracy: 0.6861\n",
            "Epoch 43: val_loss improved from 0.58265 to 0.57327, saving model to /content/drive/Shareddrives/Unlimited Drive | @LicenseMarket/models/LightCnn_blackman_frames864_sgd_epochs_batch32.h5\n",
            "48/48 [==============================] - 13s 281ms/step - loss: 0.5646 - accuracy: 0.6861 - val_loss: 0.5733 - val_accuracy: 0.7421\n",
            "Epoch 44/100\n",
            "48/48 [==============================] - ETA: 0s - loss: 0.5491 - accuracy: 0.7070\n",
            "Epoch 44: val_loss improved from 0.57327 to 0.56652, saving model to /content/drive/Shareddrives/Unlimited Drive | @LicenseMarket/models/LightCnn_blackman_frames864_sgd_epochs_batch32.h5\n",
            "48/48 [==============================] - 13s 279ms/step - loss: 0.5491 - accuracy: 0.7070 - val_loss: 0.5665 - val_accuracy: 0.7450\n",
            "Epoch 45/100\n",
            "48/48 [==============================] - ETA: 0s - loss: 0.5513 - accuracy: 0.7150\n",
            "Epoch 45: val_loss did not improve from 0.56652\n",
            "48/48 [==============================] - 13s 266ms/step - loss: 0.5513 - accuracy: 0.7150 - val_loss: 0.5701 - val_accuracy: 0.7474\n",
            "Epoch 46/100\n",
            "47/48 [============================>.] - ETA: 0s - loss: 0.5440 - accuracy: 0.7058\n",
            "Epoch 46: val_loss improved from 0.56652 to 0.56368, saving model to /content/drive/Shareddrives/Unlimited Drive | @LicenseMarket/models/LightCnn_blackman_frames864_sgd_epochs_batch32.h5\n",
            "48/48 [==============================] - 13s 278ms/step - loss: 0.5440 - accuracy: 0.7057 - val_loss: 0.5637 - val_accuracy: 0.7491\n",
            "Epoch 47/100\n",
            "48/48 [==============================] - ETA: 0s - loss: 0.5194 - accuracy: 0.7342\n",
            "Epoch 47: val_loss improved from 0.56368 to 0.53348, saving model to /content/drive/Shareddrives/Unlimited Drive | @LicenseMarket/models/LightCnn_blackman_frames864_sgd_epochs_batch32.h5\n",
            "48/48 [==============================] - 13s 277ms/step - loss: 0.5194 - accuracy: 0.7342 - val_loss: 0.5335 - val_accuracy: 0.7684\n",
            "Epoch 48/100\n",
            "48/48 [==============================] - ETA: 0s - loss: 0.5201 - accuracy: 0.7319\n",
            "Epoch 48: val_loss improved from 0.53348 to 0.53117, saving model to /content/drive/Shareddrives/Unlimited Drive | @LicenseMarket/models/LightCnn_blackman_frames864_sgd_epochs_batch32.h5\n",
            "48/48 [==============================] - 13s 277ms/step - loss: 0.5201 - accuracy: 0.7319 - val_loss: 0.5312 - val_accuracy: 0.7830\n",
            "Epoch 49/100\n",
            "48/48 [==============================] - ETA: 0s - loss: 0.5004 - accuracy: 0.7532\n",
            "Epoch 49: val_loss improved from 0.53117 to 0.52519, saving model to /content/drive/Shareddrives/Unlimited Drive | @LicenseMarket/models/LightCnn_blackman_frames864_sgd_epochs_batch32.h5\n",
            "48/48 [==============================] - 13s 280ms/step - loss: 0.5004 - accuracy: 0.7532 - val_loss: 0.5252 - val_accuracy: 0.7807\n",
            "Epoch 50/100\n",
            "48/48 [==============================] - ETA: 0s - loss: 0.4724 - accuracy: 0.7780\n",
            "Epoch 50: val_loss improved from 0.52519 to 0.46580, saving model to /content/drive/Shareddrives/Unlimited Drive | @LicenseMarket/models/LightCnn_blackman_frames864_sgd_epochs_batch32.h5\n",
            "48/48 [==============================] - 13s 285ms/step - loss: 0.4724 - accuracy: 0.7780 - val_loss: 0.4658 - val_accuracy: 0.8439\n",
            "Epoch 51/100\n",
            "47/48 [============================>.] - ETA: 0s - loss: 0.4748 - accuracy: 0.7749\n",
            "Epoch 51: val_loss did not improve from 0.46580\n",
            "48/48 [==============================] - 13s 267ms/step - loss: 0.4746 - accuracy: 0.7747 - val_loss: 0.6820 - val_accuracy: 0.6211\n",
            "Epoch 52/100\n",
            "48/48 [==============================] - ETA: 0s - loss: 0.4573 - accuracy: 0.7900\n",
            "Epoch 52: val_loss improved from 0.46580 to 0.43196, saving model to /content/drive/Shareddrives/Unlimited Drive | @LicenseMarket/models/LightCnn_blackman_frames864_sgd_epochs_batch32.h5\n",
            "48/48 [==============================] - 13s 278ms/step - loss: 0.4573 - accuracy: 0.7900 - val_loss: 0.4320 - val_accuracy: 0.8579\n",
            "Epoch 53/100\n",
            "48/48 [==============================] - ETA: 0s - loss: 0.4021 - accuracy: 0.8251\n",
            "Epoch 53: val_loss improved from 0.43196 to 0.39784, saving model to /content/drive/Shareddrives/Unlimited Drive | @LicenseMarket/models/LightCnn_blackman_frames864_sgd_epochs_batch32.h5\n",
            "48/48 [==============================] - 13s 278ms/step - loss: 0.4021 - accuracy: 0.8251 - val_loss: 0.3978 - val_accuracy: 0.8544\n",
            "Epoch 54/100\n",
            "48/48 [==============================] - ETA: 0s - loss: 0.3834 - accuracy: 0.8354\n",
            "Epoch 54: val_loss improved from 0.39784 to 0.35478, saving model to /content/drive/Shareddrives/Unlimited Drive | @LicenseMarket/models/LightCnn_blackman_frames864_sgd_epochs_batch32.h5\n",
            "48/48 [==============================] - 13s 281ms/step - loss: 0.3834 - accuracy: 0.8354 - val_loss: 0.3548 - val_accuracy: 0.8889\n",
            "Epoch 55/100\n",
            "48/48 [==============================] - ETA: 0s - loss: 0.3458 - accuracy: 0.8507\n",
            "Epoch 55: val_loss did not improve from 0.35478\n",
            "48/48 [==============================] - 13s 267ms/step - loss: 0.3458 - accuracy: 0.8507 - val_loss: 0.5268 - val_accuracy: 0.7058\n",
            "Epoch 56/100\n",
            "48/48 [==============================] - ETA: 0s - loss: 0.3444 - accuracy: 0.8547\n",
            "Epoch 56: val_loss did not improve from 0.35478\n",
            "48/48 [==============================] - 13s 266ms/step - loss: 0.3444 - accuracy: 0.8547 - val_loss: 0.3993 - val_accuracy: 0.8304\n",
            "Epoch 57/100\n",
            "48/48 [==============================] - ETA: 0s - loss: 0.3099 - accuracy: 0.8766\n",
            "Epoch 57: val_loss improved from 0.35478 to 0.28113, saving model to /content/drive/Shareddrives/Unlimited Drive | @LicenseMarket/models/LightCnn_blackman_frames864_sgd_epochs_batch32.h5\n",
            "48/48 [==============================] - 13s 279ms/step - loss: 0.3099 - accuracy: 0.8766 - val_loss: 0.2811 - val_accuracy: 0.8988\n",
            "Epoch 58/100\n",
            "48/48 [==============================] - ETA: 0s - loss: 0.3178 - accuracy: 0.8696\n",
            "Epoch 58: val_loss improved from 0.28113 to 0.27804, saving model to /content/drive/Shareddrives/Unlimited Drive | @LicenseMarket/models/LightCnn_blackman_frames864_sgd_epochs_batch32.h5\n",
            "48/48 [==============================] - 13s 278ms/step - loss: 0.3178 - accuracy: 0.8696 - val_loss: 0.2780 - val_accuracy: 0.9047\n",
            "Epoch 59/100\n",
            "48/48 [==============================] - ETA: 0s - loss: 0.2737 - accuracy: 0.8948\n",
            "Epoch 59: val_loss improved from 0.27804 to 0.25557, saving model to /content/drive/Shareddrives/Unlimited Drive | @LicenseMarket/models/LightCnn_blackman_frames864_sgd_epochs_batch32.h5\n",
            "48/48 [==============================] - 13s 280ms/step - loss: 0.2737 - accuracy: 0.8948 - val_loss: 0.2556 - val_accuracy: 0.8965\n",
            "Epoch 60/100\n",
            "48/48 [==============================] - ETA: 0s - loss: 0.2326 - accuracy: 0.9091\n",
            "Epoch 60: val_loss did not improve from 0.25557\n",
            "48/48 [==============================] - 13s 265ms/step - loss: 0.2326 - accuracy: 0.9091 - val_loss: 0.2739 - val_accuracy: 0.8947\n",
            "Epoch 61/100\n",
            "48/48 [==============================] - ETA: 0s - loss: 0.2394 - accuracy: 0.9061\n",
            "Epoch 61: val_loss did not improve from 0.25557\n",
            "48/48 [==============================] - 13s 267ms/step - loss: 0.2394 - accuracy: 0.9061 - val_loss: 0.3028 - val_accuracy: 0.8813\n",
            "Epoch 62/100\n",
            "48/48 [==============================] - ETA: 0s - loss: 0.1973 - accuracy: 0.9293\n",
            "Epoch 62: val_loss improved from 0.25557 to 0.21992, saving model to /content/drive/Shareddrives/Unlimited Drive | @LicenseMarket/models/LightCnn_blackman_frames864_sgd_epochs_batch32.h5\n",
            "48/48 [==============================] - 13s 280ms/step - loss: 0.1973 - accuracy: 0.9293 - val_loss: 0.2199 - val_accuracy: 0.9088\n",
            "Epoch 63/100\n",
            "48/48 [==============================] - ETA: 0s - loss: 0.1865 - accuracy: 0.9303\n",
            "Epoch 63: val_loss improved from 0.21992 to 0.20902, saving model to /content/drive/Shareddrives/Unlimited Drive | @LicenseMarket/models/LightCnn_blackman_frames864_sgd_epochs_batch32.h5\n",
            "48/48 [==============================] - 13s 280ms/step - loss: 0.1865 - accuracy: 0.9303 - val_loss: 0.2090 - val_accuracy: 0.9140\n",
            "Epoch 64/100\n",
            "48/48 [==============================] - ETA: 0s - loss: 0.1789 - accuracy: 0.9336\n",
            "Epoch 64: val_loss did not improve from 0.20902\n",
            "48/48 [==============================] - 13s 266ms/step - loss: 0.1789 - accuracy: 0.9336 - val_loss: 0.2929 - val_accuracy: 0.8918\n",
            "Epoch 65/100\n",
            "48/48 [==============================] - ETA: 0s - loss: 0.1484 - accuracy: 0.9469\n",
            "Epoch 65: val_loss did not improve from 0.20902\n",
            "48/48 [==============================] - 13s 267ms/step - loss: 0.1484 - accuracy: 0.9469 - val_loss: 0.2295 - val_accuracy: 0.9140\n",
            "Epoch 66/100\n",
            "48/48 [==============================] - ETA: 0s - loss: 0.1484 - accuracy: 0.9482\n",
            "Epoch 66: val_loss did not improve from 0.20902\n",
            "48/48 [==============================] - 13s 266ms/step - loss: 0.1484 - accuracy: 0.9482 - val_loss: 0.2129 - val_accuracy: 0.9251\n",
            "Epoch 67/100\n",
            "48/48 [==============================] - ETA: 0s - loss: 0.1557 - accuracy: 0.9419\n",
            "Epoch 67: val_loss did not improve from 0.20902\n",
            "48/48 [==============================] - 13s 266ms/step - loss: 0.1557 - accuracy: 0.9419 - val_loss: 0.5290 - val_accuracy: 0.7994\n",
            "Epoch 68/100\n",
            "48/48 [==============================] - ETA: 0s - loss: 0.1410 - accuracy: 0.9496\n",
            "Epoch 68: val_loss improved from 0.20902 to 0.18831, saving model to /content/drive/Shareddrives/Unlimited Drive | @LicenseMarket/models/LightCnn_blackman_frames864_sgd_epochs_batch32.h5\n",
            "48/48 [==============================] - 14s 284ms/step - loss: 0.1410 - accuracy: 0.9496 - val_loss: 0.1883 - val_accuracy: 0.9246\n",
            "Epoch 69/100\n",
            "48/48 [==============================] - ETA: 0s - loss: 0.1716 - accuracy: 0.9396\n",
            "Epoch 69: val_loss improved from 0.18831 to 0.18759, saving model to /content/drive/Shareddrives/Unlimited Drive | @LicenseMarket/models/LightCnn_blackman_frames864_sgd_epochs_batch32.h5\n",
            "48/48 [==============================] - 14s 283ms/step - loss: 0.1716 - accuracy: 0.9396 - val_loss: 0.1876 - val_accuracy: 0.9240\n",
            "Epoch 70/100\n",
            "48/48 [==============================] - ETA: 0s - loss: 0.1275 - accuracy: 0.9552\n",
            "Epoch 70: val_loss did not improve from 0.18759\n",
            "48/48 [==============================] - 13s 267ms/step - loss: 0.1275 - accuracy: 0.9552 - val_loss: 0.2108 - val_accuracy: 0.9164\n",
            "Epoch 71/100\n",
            "48/48 [==============================] - ETA: 0s - loss: 0.1234 - accuracy: 0.9539\n",
            "Epoch 71: val_loss did not improve from 0.18759\n",
            "48/48 [==============================] - 13s 267ms/step - loss: 0.1234 - accuracy: 0.9539 - val_loss: 0.2478 - val_accuracy: 0.9029\n",
            "Epoch 72/100\n",
            "48/48 [==============================] - ETA: 0s - loss: 0.1535 - accuracy: 0.9466\n",
            "Epoch 72: val_loss did not improve from 0.18759\n",
            "48/48 [==============================] - 13s 267ms/step - loss: 0.1535 - accuracy: 0.9466 - val_loss: 0.1933 - val_accuracy: 0.9228\n",
            "Epoch 73/100\n",
            "48/48 [==============================] - ETA: 0s - loss: 0.1227 - accuracy: 0.9565\n",
            "Epoch 73: val_loss did not improve from 0.18759\n",
            "48/48 [==============================] - 13s 266ms/step - loss: 0.1227 - accuracy: 0.9565 - val_loss: 0.2042 - val_accuracy: 0.9205\n",
            "Epoch 74/100\n",
            "48/48 [==============================] - ETA: 0s - loss: 0.1069 - accuracy: 0.9622\n",
            "Epoch 74: val_loss did not improve from 0.18759\n",
            "48/48 [==============================] - 13s 266ms/step - loss: 0.1069 - accuracy: 0.9622 - val_loss: 0.3715 - val_accuracy: 0.8661\n",
            "Epoch 75/100\n",
            "48/48 [==============================] - ETA: 0s - loss: 0.1180 - accuracy: 0.9602\n",
            "Epoch 75: val_loss improved from 0.18759 to 0.18566, saving model to /content/drive/Shareddrives/Unlimited Drive | @LicenseMarket/models/LightCnn_blackman_frames864_sgd_epochs_batch32.h5\n",
            "48/48 [==============================] - 13s 279ms/step - loss: 0.1180 - accuracy: 0.9602 - val_loss: 0.1857 - val_accuracy: 0.9316\n",
            "Epoch 76/100\n",
            "48/48 [==============================] - ETA: 0s - loss: 0.1070 - accuracy: 0.9615\n",
            "Epoch 76: val_loss did not improve from 0.18566\n",
            "48/48 [==============================] - 13s 266ms/step - loss: 0.1070 - accuracy: 0.9615 - val_loss: 0.3417 - val_accuracy: 0.8743\n",
            "Epoch 77/100\n",
            "48/48 [==============================] - ETA: 0s - loss: 0.1047 - accuracy: 0.9642\n",
            "Epoch 77: val_loss did not improve from 0.18566\n",
            "48/48 [==============================] - 13s 266ms/step - loss: 0.1047 - accuracy: 0.9642 - val_loss: 0.6256 - val_accuracy: 0.8047\n",
            "Epoch 78/100\n",
            "48/48 [==============================] - ETA: 0s - loss: 0.0975 - accuracy: 0.9675\n",
            "Epoch 78: val_loss did not improve from 0.18566\n",
            "48/48 [==============================] - 13s 267ms/step - loss: 0.0975 - accuracy: 0.9675 - val_loss: 0.2004 - val_accuracy: 0.9246\n",
            "Epoch 79/100\n",
            "48/48 [==============================] - ETA: 0s - loss: 0.1035 - accuracy: 0.9632\n",
            "Epoch 79: val_loss improved from 0.18566 to 0.17665, saving model to /content/drive/Shareddrives/Unlimited Drive | @LicenseMarket/models/LightCnn_blackman_frames864_sgd_epochs_batch32.h5\n",
            "48/48 [==============================] - 13s 279ms/step - loss: 0.1035 - accuracy: 0.9632 - val_loss: 0.1766 - val_accuracy: 0.9327\n",
            "Epoch 80/100\n",
            "48/48 [==============================] - ETA: 0s - loss: 0.1080 - accuracy: 0.9632\n",
            "Epoch 80: val_loss did not improve from 0.17665\n",
            "48/48 [==============================] - 13s 265ms/step - loss: 0.1080 - accuracy: 0.9632 - val_loss: 0.3551 - val_accuracy: 0.8731\n",
            "Epoch 81/100\n",
            "48/48 [==============================] - ETA: 0s - loss: 0.1010 - accuracy: 0.9652\n",
            "Epoch 81: val_loss did not improve from 0.17665\n",
            "48/48 [==============================] - 13s 265ms/step - loss: 0.1010 - accuracy: 0.9652 - val_loss: 0.1882 - val_accuracy: 0.9275\n",
            "Epoch 82/100\n",
            "48/48 [==============================] - ETA: 0s - loss: 0.1003 - accuracy: 0.9648\n",
            "Epoch 82: val_loss improved from 0.17665 to 0.17619, saving model to /content/drive/Shareddrives/Unlimited Drive | @LicenseMarket/models/LightCnn_blackman_frames864_sgd_epochs_batch32.h5\n",
            "48/48 [==============================] - 13s 278ms/step - loss: 0.1003 - accuracy: 0.9648 - val_loss: 0.1762 - val_accuracy: 0.9316\n",
            "Epoch 83/100\n",
            "48/48 [==============================] - ETA: 0s - loss: 0.1034 - accuracy: 0.9642\n",
            "Epoch 83: val_loss did not improve from 0.17619\n",
            "48/48 [==============================] - 13s 267ms/step - loss: 0.1034 - accuracy: 0.9642 - val_loss: 0.1924 - val_accuracy: 0.9304\n",
            "Epoch 84/100\n",
            "48/48 [==============================] - ETA: 0s - loss: 0.0927 - accuracy: 0.9695\n",
            "Epoch 84: val_loss did not improve from 0.17619\n",
            "48/48 [==============================] - 13s 267ms/step - loss: 0.0927 - accuracy: 0.9695 - val_loss: 0.2010 - val_accuracy: 0.9211\n",
            "Epoch 85/100\n",
            "48/48 [==============================] - ETA: 0s - loss: 0.0895 - accuracy: 0.9698\n",
            "Epoch 85: val_loss did not improve from 0.17619\n",
            "48/48 [==============================] - 13s 267ms/step - loss: 0.0895 - accuracy: 0.9698 - val_loss: 0.2753 - val_accuracy: 0.9058\n",
            "Epoch 86/100\n",
            "48/48 [==============================] - ETA: 0s - loss: 0.0955 - accuracy: 0.9672\n",
            "Epoch 86: val_loss did not improve from 0.17619\n",
            "48/48 [==============================] - 13s 266ms/step - loss: 0.0955 - accuracy: 0.9672 - val_loss: 0.2617 - val_accuracy: 0.9023\n",
            "Epoch 87/100\n",
            "48/48 [==============================] - ETA: 0s - loss: 0.0857 - accuracy: 0.9711\n",
            "Epoch 87: val_loss did not improve from 0.17619\n",
            "48/48 [==============================] - 13s 267ms/step - loss: 0.0857 - accuracy: 0.9711 - val_loss: 0.3534 - val_accuracy: 0.8865\n",
            "Epoch 88/100\n",
            "48/48 [==============================] - ETA: 0s - loss: 0.0885 - accuracy: 0.9695\n",
            "Epoch 88: val_loss did not improve from 0.17619\n",
            "48/48 [==============================] - 13s 267ms/step - loss: 0.0885 - accuracy: 0.9695 - val_loss: 0.2629 - val_accuracy: 0.9076\n",
            "Epoch 89/100\n",
            "48/48 [==============================] - ETA: 0s - loss: 0.0958 - accuracy: 0.9628\n",
            "Epoch 89: val_loss did not improve from 0.17619\n",
            "48/48 [==============================] - 13s 267ms/step - loss: 0.0958 - accuracy: 0.9628 - val_loss: 0.1894 - val_accuracy: 0.9316\n",
            "Epoch 90/100\n",
            "48/48 [==============================] - ETA: 0s - loss: 0.0973 - accuracy: 0.9638\n",
            "Epoch 90: val_loss did not improve from 0.17619\n",
            "48/48 [==============================] - 13s 266ms/step - loss: 0.0973 - accuracy: 0.9638 - val_loss: 0.2209 - val_accuracy: 0.9187\n",
            "Epoch 91/100\n",
            "48/48 [==============================] - ETA: 0s - loss: 0.0854 - accuracy: 0.9695\n",
            "Epoch 91: val_loss did not improve from 0.17619\n",
            "48/48 [==============================] - 13s 266ms/step - loss: 0.0854 - accuracy: 0.9695 - val_loss: 0.1828 - val_accuracy: 0.9322\n",
            "Epoch 92/100\n",
            "48/48 [==============================] - ETA: 0s - loss: 0.0830 - accuracy: 0.9718\n",
            "Epoch 92: val_loss did not improve from 0.17619\n",
            "Restoring model weights from the end of the best epoch: 82.\n",
            "48/48 [==============================] - 13s 266ms/step - loss: 0.0830 - accuracy: 0.9718 - val_loss: 0.2125 - val_accuracy: 0.9228\n",
            "Epoch 92: early stopping\n"
          ]
        }
      ],
      "source": [
        "# Fit the model on the batches generated by datagen.flow().\n",
        "results =model.fit(train_generator,\n",
        "                            steps_per_epoch=int(np.ceil(nb_train_samples / float(batch_size))),\n",
        "                            epochs=epochs,\n",
        "                            validation_data=validation_data,\n",
        "                            verbose=1,\n",
        "                            shuffle=True,\n",
        "                            callbacks=cb,\n",
        "                            workers=4)\n",
        "    \n",
        "model.save('/content/drive/Shareddrives/Unlimited Drive | @LicenseMarket/models/2_6/cnn_viT_8head_dropout0.3_relu1_144patches_128filter_blackman_frames400_sgd_epochs100_lr0.0001.h5', model)"
      ]
    },
    {
      "cell_type": "code",
      "execution_count": null,
      "metadata": {
        "id": "wuSnbc7txcFJ"
      },
      "outputs": [],
      "source": [
        "history=results.history\n",
        "history.keys()"
      ]
    },
    {
      "cell_type": "code",
      "execution_count": null,
      "metadata": {
        "id": "0dANcfGnyKVo"
      },
      "outputs": [],
      "source": [
        "import matplotlib.pyplot as plt\n",
        "losses=history['loss']\n",
        "val_losses=history['val_loss']\n",
        "acuracies=history['accuracy']\n",
        "val_accuracies=history['val_accuracy']\n",
        "\n",
        "\n",
        "plt.xlabel('Epochs')\n",
        "plt.ylabel('loss')\n",
        "plt.plot(losses)\n",
        "plt.plot(val_losses)\n",
        "plt.legend(['loss','val_loss'])\n",
        "plt.figure()\n",
        "plt.xlabel('Epochs')\n",
        "plt.ylabel('accuracy')\n",
        "plt.plot(acuracies)\n",
        "plt.plot(val_accuracies)\n",
        "plt.legend(['accuracy','val_accuracy'])"
      ]
    },
    {
      "cell_type": "markdown",
      "metadata": {
        "id": "-jLHuTlO8cW4"
      },
      "source": [
        "#DEV"
      ]
    },
    {
      "cell_type": "code",
      "execution_count": null,
      "metadata": {
        "id": "klVyGdux8d5t"
      },
      "outputs": [],
      "source": [
        "devData = np.load('/content/drive/Shareddrives/Unlimited Drive | @LicenseMarket/log_power_spectrogram/log_power_spectrum_800_400/dev/dev.npy')\n",
        "devLabel = np.load('/content/drive/Shareddrives/Unlimited Drive | @LicenseMarket/log_power_spectrogram/log_power_spectrum_800_400/dev_lable/dev_lable.npy')\n",
        "img_rows, img_cols =devData[0].shape\n",
        "x_dev = devData.reshape(devData.shape[0], img_rows, img_cols, 1)\n",
        "y_dev = keras.utils.np_utils.to_categorical(devLabel,num_classes)"
      ]
    },
    {
      "cell_type": "code",
      "source": [
        "print('********************Scores on devSet********************')\n",
        "model.load_weights('/content/drive/Shareddrives/Unlimited Drive | @LicenseMarket/models/2_6/cnn_viT_8head_dropout0.3_relu1_144patches_128filter_blackman_frames400_sgd_epochs100_lr0.0001.h5')\n",
        "#dev_yPred = model_cnn.predict_classes(x_dev)\n",
        "dev_prediction = model.predict(x_dev)#prob of classes\n",
        "dev_score = model.evaluate(x_dev, y_dev, verbose=1)\n",
        "\n",
        "CalEER(devLabel,dev_prediction[:,1])\n",
        "#analysisModel(devLabel,dev_yPred)\n",
        "\n",
        "#print('dev loss:', dev_score[0])\n",
        "#print('dev accuracy:', dev_score[1])"
      ],
      "metadata": {
        "colab": {
          "base_uri": "https://localhost:8080/",
          "height": 416
        },
        "id": "L9cTUWjrno4r",
        "outputId": "a72ca49c-00ba-4d38-947a-8186de2eed22"
      },
      "execution_count": null,
      "outputs": [
        {
          "output_type": "stream",
          "name": "stdout",
          "text": [
            "********************Scores on devSet********************\n",
            "54/54 [==============================] - 46s 842ms/step - loss: 0.1762 - accuracy: 0.9316\n",
            "eer_thresholds: 0.54445636\n",
            "EER_fpr: 6.842105263157896\n",
            "EER_fnr: 6.97368421052632\n",
            "EER: 6.907894736842107\n"
          ]
        },
        {
          "output_type": "display_data",
          "data": {
            "text/plain": [
              "<Figure size 432x288 with 1 Axes>"
            ],
            "image/png": "[encoded data removed]"
          },
          "metadata": {
            "needs_background": "light"
          }
        },
        {
          "output_type": "execute_result",
          "data": {
            "text/plain": [
              "0.54445636"
            ]
          },
          "metadata": {},
          "execution_count": 29
        }
      ]
    },
    {
      "cell_type": "code",
      "execution_count": null,
      "metadata": {
        "colab": {
          "base_uri": "https://localhost:8080/",
          "height": 416
        },
        "id": "kdhvwj57_dlw",
        "outputId": "b6391d2f-7a72-476c-fdfa-e4842684e6ba"
      },
      "outputs": [
        {
          "output_type": "stream",
          "name": "stdout",
          "text": [
            "********************Scores on devSet********************\n",
            "54/54 [==============================] - 2s 41ms/step - loss: 0.1762 - accuracy: 0.9316\n",
            "eer_thresholds: 0.54445547\n",
            "EER_fpr: 6.842105263157896\n",
            "EER_fnr: 6.97368421052632\n",
            "EER: 6.907894736842107\n"
          ]
        },
        {
          "output_type": "display_data",
          "data": {
            "text/plain": [
              "<Figure size 432x288 with 1 Axes>"
            ],
            "image/png": "[encoded data removed]"
          },
          "metadata": {
            "needs_background": "light"
          }
        },
        {
          "output_type": "execute_result",
          "data": {
            "text/plain": [
              "0.54445547"
            ]
          },
          "metadata": {},
          "execution_count": 53
        }
      ],
      "source": [
        "print('********************Scores on devSet********************')\n",
        "model.load_weights('/content/drive/Shareddrives/Unlimited Drive | @LicenseMarket/models/2_6/cnn_viT_8head_dropout0.3_relu1_144patches_128filter_blackman_frames400_sgd_epochs100_lr0.0001.h5')\n",
        "#dev_yPred = model_cnn.predict_classes(x_dev)\n",
        "dev_prediction = model.predict(x_dev)#prob of classes\n",
        "dev_score = model.evaluate(x_dev, y_dev, verbose=1)\n",
        "\n",
        "CalEER(devLabel,dev_prediction[:,1])\n",
        "#analysisModel(devLabel,dev_yPred)\n",
        "\n",
        "#print('dev loss:', dev_score[0])\n",
        "#print('dev accuracy:', dev_score[1])"
      ]
    },
    {
      "cell_type": "code",
      "execution_count": null,
      "metadata": {
        "colab": {
          "base_uri": "https://localhost:8080/"
        },
        "id": "sUdiob1B-CpV",
        "outputId": "a016a9b2-dc5b-4c9c-9664-d448bef219c8"
      },
      "outputs": [
        {
          "output_type": "stream",
          "name": "stdout",
          "text": [
            "dev loss: 0.21842949092388153\n",
            "dev accuracy: 0.9333333373069763\n"
          ]
        }
      ],
      "source": [
        "print('dev loss:', dev_score[0])\n",
        "print('dev accuracy:', dev_score[1])"
      ]
    },
    {
      "cell_type": "code",
      "execution_count": null,
      "metadata": {
        "colab": {
          "base_uri": "https://localhost:8080/"
        },
        "id": "KEXTfc6Pkoov",
        "outputId": "3909c06b-91c5-40fb-f3c4-338968c96325"
      },
      "outputs": [
        {
          "output_type": "stream",
          "name": "stdout",
          "text": [
            "              precision    recall  f1-score   support\n",
            "\n",
            "           0       0.95      0.94      0.94       950\n",
            "           1       0.92      0.94      0.93       760\n",
            "\n",
            "    accuracy                           0.94      1710\n",
            "   macro avg       0.93      0.94      0.94      1710\n",
            "weighted avg       0.94      0.94      0.94      1710\n",
            "\n",
            "TP: 711 FN: 49\n",
            "FP: 60 TN: 890\n",
            "Recall: 93.55263157894737\n",
            "Specificity: 93.6842105263158\n",
            "1-Specificity 6.315789473684211\n",
            "Precision: 92.21789883268482\n"
          ]
        }
      ],
      "source": [
        "dev_yPred=np.where(dev_prediction[:,1] > 0.4344881, 1,0)\n",
        "analysisModel(devLabel,dev_yPred)"
      ]
    },
    {
      "cell_type": "code",
      "execution_count": null,
      "metadata": {
        "colab": {
          "base_uri": "https://localhost:8080/"
        },
        "id": "pV8LS4EyPnhu",
        "outputId": "44b690af-971d-45df-f2e3-6dd6d4d15950"
      },
      "outputs": [
        {
          "data": {
            "text/plain": [
              "3060"
            ]
          },
          "execution_count": 37,
          "metadata": {},
          "output_type": "execute_result"
        }
      ],
      "source": [
        "del x_dev,y_dev,devLabel,devData,dev_prediction,dev_score,dev_yPred\n",
        "import gc\n",
        "gc.collect()"
      ]
    },
    {
      "cell_type": "markdown",
      "metadata": {
        "id": "mKHU_KCLedZ0"
      },
      "source": [
        "#eval"
      ]
    },
    {
      "cell_type": "code",
      "execution_count": null,
      "metadata": {
        "id": "BO6HIMEQefI_"
      },
      "outputs": [],
      "source": [
        "import pandas as pd\n",
        "\n",
        "class StringConverter(dict):\n",
        "    def __contains__(self, item):\n",
        "        return True\n",
        "\n",
        "    def __getitem__(self, item):\n",
        "        return str\n",
        "\n",
        "    def get(self, default=None):\n",
        "        return str\n",
        "\n",
        "df=pd.read_csv('/content/drive/MyDrive/protocol_V2/train_protocol.csv', converters=StringConverter())\n",
        "test_df = pd.read_csv('/content/drive/MyDrive/protocol_V2/dev_protocol.csv', converters=StringConverter())\n",
        "eval_df = pd.read_csv('/content/drive/MyDrive/protocol_V2/eval_protocol.csv', converters=StringConverter())"
      ]
    },
    {
      "cell_type": "code",
      "execution_count": null,
      "metadata": {
        "colab": {
          "base_uri": "https://localhost:8080/"
        },
        "id": "e8uUmHgfeghD",
        "outputId": "e6e23db4-587a-4420-bf12-1882cc7ea228"
      },
      "outputs": [
        {
          "output_type": "execute_result",
          "data": {
            "text/plain": [
              "['spoof', 'genuine']"
            ]
          },
          "metadata": {},
          "execution_count": 37
        }
      ],
      "source": [
        "classes=list(np.unique(eval_df.label))\n",
        "classes[0], classes[1] = classes[1], classes[0]\n",
        "classes"
      ]
    },
    {
      "cell_type": "code",
      "execution_count": null,
      "metadata": {
        "id": "bQvfY3Grej9U"
      },
      "outputs": [],
      "source": [
        "fn2classes=dict(zip(eval_df.wav_id ,eval_df.label))"
      ]
    },
    {
      "cell_type": "code",
      "execution_count": null,
      "metadata": {
        "id": "UnzJMrkUelOx"
      },
      "outputs": [],
      "source": [
        "def build_prediction(data_fram):\n",
        "    y_true=[]\n",
        "    y_pred=[]\n",
        "    fn_prob={}\n",
        "    #y_prob=[]\n",
        "\n",
        "    print('prediction on eval dataset')\n",
        "    for i, ID in enumerate(data_fram['wav_id']):\n",
        "      feat= np.load(('/content/drive/Shareddrives/Unlimited Drive | @LicenseMarket/feature_keras_generator/feature_keras_generator_400_400_100_800/' + ID.split(\".\")[0] + '.npy'))\n",
        "      feat=feat.reshape(1, feat.shape[0], feat.shape[1], 1)\n",
        "      label=fn2classes[ID]\n",
        "      c=classes.index(label)\n",
        "      y_hat=model.predict(feat)\n",
        "      y_prob=[]\n",
        "      y_prob.append(y_hat)\n",
        "      y_pred.append(np.argmax(y_hat))\n",
        "      y_true.append(c)\n",
        "      fn_prob[ID]=np.mean(y_prob,axis=0).flatten()\n",
        "    return y_true,y_pred,fn_prob"
      ]
    },
    {
      "cell_type": "code",
      "execution_count": null,
      "metadata": {
        "colab": {
          "base_uri": "https://localhost:8080/"
        },
        "id": "rfLb8rnGTKSh",
        "outputId": "4ec79fe0-25b5-4cdb-cb80-c3eb8dbc56f2"
      },
      "outputs": [
        {
          "name": "stdout",
          "output_type": "stream",
          "text": [
            "13306\n"
          ]
        }
      ],
      "source": [
        "path, dirs, files = next(os.walk(\"/content/drive/Shareddrives/Unlimited Drive | @LicenseMarket/feature_keras_generator/800_400\"))\n",
        "file_count = len(files)\n",
        "print(file_count)"
      ]
    },
    {
      "cell_type": "code",
      "execution_count": null,
      "metadata": {
        "colab": {
          "base_uri": "https://localhost:8080/"
        },
        "id": "wasY8aANeq6D",
        "outputId": "5609adf2-c184-4a01-bd3e-31aac213d285"
      },
      "outputs": [
        {
          "metadata": {
            "tags": null
          },
          "name": "stdout",
          "output_type": "stream",
          "text": [
            "prediction on eval dataset\n"
          ]
        }
      ],
      "source": [
        "model.load_weights('/content/drive/Shareddrives/Unlimited Drive | @LicenseMarket/models/2_6/cnn_viT_8head_dropout0.3_relu1_144patches_128filter_blackman_frames400_sgd_epochs100_lr0.0001.h5')\n",
        "y_true, y_pred, fn_prob=build_prediction(eval_df)"
      ]
    },
    {
      "cell_type": "code",
      "source": [
        "print('********************Scores on EvalSet********************')\n",
        "from sklearn.metrics import accuracy_score\n",
        "Eval_acc=accuracy_score(y_true, y_pred)\n",
        "print('Eval accuracy:', Eval_acc)"
      ],
      "metadata": {
        "colab": {
          "base_uri": "https://localhost:8080/"
        },
        "id": "YivmgkvhpkUW",
        "outputId": "667f67e2-c67e-4a65-b536-976a0c1b0f9d"
      },
      "execution_count": null,
      "outputs": [
        {
          "output_type": "stream",
          "name": "stdout",
          "text": [
            "********************Scores on EvalSet********************\n",
            "Eval accuracy: 0.8718623177513903\n"
          ]
        }
      ]
    },
    {
      "cell_type": "code",
      "execution_count": null,
      "metadata": {
        "colab": {
          "base_uri": "https://localhost:8080/"
        },
        "id": "I1x1Xk2gewmy",
        "outputId": "fd743647-a7ff-44a6-eeed-5bea456f303f"
      },
      "outputs": [
        {
          "output_type": "stream",
          "name": "stdout",
          "text": [
            "********************Scores on EvalSet********************\n",
            "Eval accuracy: 0.8718623177513903\n"
          ]
        }
      ],
      "source": [
        "print('********************Scores on EvalSet********************')\n",
        "from sklearn.metrics import accuracy_score\n",
        "Eval_acc=accuracy_score(y_true, y_pred)\n",
        "print('Eval accuracy:', Eval_acc)"
      ]
    },
    {
      "cell_type": "code",
      "execution_count": null,
      "metadata": {
        "id": "uPcFcVAFezhK"
      },
      "outputs": [],
      "source": [
        "y_probs=[]\n",
        "for i , row in eval_df.iterrows():\n",
        "  y_prob=fn_prob[row.wav_id]\n",
        "  y_probs.append(y_prob)\n",
        "  for c,p in zip(classes, y_prob):\n",
        "    eval_df.at[i,c]=p"
      ]
    },
    {
      "cell_type": "code",
      "execution_count": null,
      "metadata": {
        "id": "yyj76wCEe4AA"
      },
      "outputs": [],
      "source": [
        "y_pred=[classes[np.argmax(y)] for y in y_probs]\n",
        "eval_df['y_pred']=y_pred\n",
        "eval_df.to_csv('/content/drive/Shareddrives/Unlimited Drive | @LicenseMarket/score_pred/prediction.csv', index=False)"
      ]
    },
    {
      "cell_type": "code",
      "execution_count": null,
      "metadata": {
        "colab": {
          "base_uri": "https://localhost:8080/",
          "height": 887
        },
        "id": "pby9GR8be6-l",
        "outputId": "42f18a37-92c1-4822-cbc9-1668d138113c"
      },
      "outputs": [
        {
          "output_type": "execute_result",
          "data": {
            "text/plain": [
              "       Unnamed: 0         wav_id    label speaker_id phrase_id env_id  \\\n",
              "0               0  E_1000001.wav    spoof      M0029       S03    E19   \n",
              "1               1  E_1000002.wav    spoof      M0027       S10    E19   \n",
              "2               2  E_1000003.wav    spoof      M0025       S01    E14   \n",
              "3               3  E_1000004.wav    spoof      M0035       S10    E12   \n",
              "4               4  E_1000005.wav    spoof      M0025       S10    E18   \n",
              "...           ...            ...      ...        ...       ...    ...   \n",
              "13301       13301  E_1014215.wav    spoof      M0023       S03    E24   \n",
              "13302       13302  E_1014216.wav    spoof      M0032       S01    E08   \n",
              "13303       13303  E_1014217.wav  genuine      M0021       S04      -   \n",
              "13304       13304  E_1014218.wav    spoof      M0024       S06    E19   \n",
              "13305       13305  E_1014219.wav    spoof      M0033       S02    E16   \n",
              "\n",
              "      pb_device_id rec_device_id  label_id  \\\n",
              "0              P22           R22         0   \n",
              "1              P22           R22         0   \n",
              "2              P03           R04         0   \n",
              "3              P16           R11         0   \n",
              "4              P05           R03         0   \n",
              "...            ...           ...       ...   \n",
              "13301          P13           R08         0   \n",
              "13302          P20           R14         0   \n",
              "13303            -             -         1   \n",
              "13304          P22           R22         0   \n",
              "13305          P07           R06         0   \n",
              "\n",
              "                                                wav_path  \\\n",
              "0      /content/drive/Shareddrives/Unlimited Drive | ...   \n",
              "1      /content/drive/Shareddrives/Unlimited Drive | ...   \n",
              "2      /content/drive/Shareddrives/Unlimited Drive | ...   \n",
              "3      /content/drive/Shareddrives/Unlimited Drive | ...   \n",
              "4      /content/drive/Shareddrives/Unlimited Drive | ...   \n",
              "...                                                  ...   \n",
              "13301  /content/drive/Shareddrives/Unlimited Drive | ...   \n",
              "13302  /content/drive/Shareddrives/Unlimited Drive | ...   \n",
              "13303  /content/drive/Shareddrives/Unlimited Drive | ...   \n",
              "13304  /content/drive/Shareddrives/Unlimited Drive | ...   \n",
              "13305  /content/drive/Shareddrives/Unlimited Drive | ...   \n",
              "\n",
              "                                 transcript  duration     spoof   genuine  \\\n",
              "0            Only lawyers love millionaires    4.1575  0.999342  0.000658   \n",
              "1      Necessity is the mother of invention    3.1745  0.996403  0.003597   \n",
              "2                   My voice is my password    2.6215  0.132722  0.867278   \n",
              "3      Necessity is the mother of invention    2.3815  0.999761  0.000239   \n",
              "4      Necessity is the mother of invention    3.7725  0.767466  0.232534   \n",
              "...                                     ...       ...       ...       ...   \n",
              "13301        Only lawyers love millionaires    4.1255  0.010359  0.989641   \n",
              "13302               My voice is my password    2.6265  0.997256  0.002744   \n",
              "13303   Artificial intelligence is for real    3.4535  0.467420  0.532580   \n",
              "13304       Actions speak louder than words    4.1355  0.997074  0.002926   \n",
              "13305                             OK Google    2.6625  0.638322  0.361678   \n",
              "\n",
              "        y_pred  \n",
              "0        spoof  \n",
              "1        spoof  \n",
              "2      genuine  \n",
              "3        spoof  \n",
              "4        spoof  \n",
              "...        ...  \n",
              "13301  genuine  \n",
              "13302    spoof  \n",
              "13303  genuine  \n",
              "13304    spoof  \n",
              "13305    spoof  \n",
              "\n",
              "[13306 rows x 15 columns]"
            ],
            "text/html": [
              "\n",
              "  <div id=\"df-83110065-fbf6-48de-ab80-bde92eb849b9\">\n",
              "    <div class=\"colab-df-container\">\n",
              "      <div>\n",
              "<style scoped>\n",
              "    .dataframe tbody tr th:only-of-type {\n",
              "        vertical-align: middle;\n",
              "    }\n",
              "\n",
              "    .dataframe tbody tr th {\n",
              "        vertical-align: top;\n",
              "    }\n",
              "\n",
              "    .dataframe thead th {\n",
              "        text-align: right;\n",
              "    }\n",
              "</style>\n",
              "<table border=\"1\" class=\"dataframe\">\n",
              "  <thead>\n",
              "    <tr style=\"text-align: right;\">\n",
              "      <th></th>\n",
              "      <th>Unnamed: 0</th>\n",
              "      <th>wav_id</th>\n",
              "      <th>label</th>\n",
              "      <th>speaker_id</th>\n",
              "      <th>phrase_id</th>\n",
              "      <th>env_id</th>\n",
              "      <th>pb_device_id</th>\n",
              "      <th>rec_device_id</th>\n",
              "      <th>label_id</th>\n",
              "      <th>wav_path</th>\n",
              "      <th>transcript</th>\n",
              "      <th>duration</th>\n",
              "      <th>spoof</th>\n",
              "      <th>genuine</th>\n",
              "      <th>y_pred</th>\n",
              "    </tr>\n",
              "  </thead>\n",
              "  <tbody>\n",
              "    <tr>\n",
              "      <th>0</th>\n",
              "      <td>0</td>\n",
              "      <td>E_1000001.wav</td>\n",
              "      <td>spoof</td>\n",
              "      <td>M0029</td>\n",
              "      <td>S03</td>\n",
              "      <td>E19</td>\n",
              "      <td>P22</td>\n",
              "      <td>R22</td>\n",
              "      <td>0</td>\n",
              "      <td>/content/drive/Shareddrives/Unlimited Drive | ...</td>\n",
              "      <td>Only lawyers love millionaires</td>\n",
              "      <td>4.1575</td>\n",
              "      <td>0.999342</td>\n",
              "      <td>0.000658</td>\n",
              "      <td>spoof</td>\n",
              "    </tr>\n",
              "    <tr>\n",
              "      <th>1</th>\n",
              "      <td>1</td>\n",
              "      <td>E_1000002.wav</td>\n",
              "      <td>spoof</td>\n",
              "      <td>M0027</td>\n",
              "      <td>S10</td>\n",
              "      <td>E19</td>\n",
              "      <td>P22</td>\n",
              "      <td>R22</td>\n",
              "      <td>0</td>\n",
              "      <td>/content/drive/Shareddrives/Unlimited Drive | ...</td>\n",
              "      <td>Necessity is the mother of invention</td>\n",
              "      <td>3.1745</td>\n",
              "      <td>0.996403</td>\n",
              "      <td>0.003597</td>\n",
              "      <td>spoof</td>\n",
              "    </tr>\n",
              "    <tr>\n",
              "      <th>2</th>\n",
              "      <td>2</td>\n",
              "      <td>E_1000003.wav</td>\n",
              "      <td>spoof</td>\n",
              "      <td>M0025</td>\n",
              "      <td>S01</td>\n",
              "      <td>E14</td>\n",
              "      <td>P03</td>\n",
              "      <td>R04</td>\n",
              "      <td>0</td>\n",
              "      <td>/content/drive/Shareddrives/Unlimited Drive | ...</td>\n",
              "      <td>My voice is my password</td>\n",
              "      <td>2.6215</td>\n",
              "      <td>0.132722</td>\n",
              "      <td>0.867278</td>\n",
              "      <td>genuine</td>\n",
              "    </tr>\n",
              "    <tr>\n",
              "      <th>3</th>\n",
              "      <td>3</td>\n",
              "      <td>E_1000004.wav</td>\n",
              "      <td>spoof</td>\n",
              "      <td>M0035</td>\n",
              "      <td>S10</td>\n",
              "      <td>E12</td>\n",
              "      <td>P16</td>\n",
              "      <td>R11</td>\n",
              "      <td>0</td>\n",
              "      <td>/content/drive/Shareddrives/Unlimited Drive | ...</td>\n",
              "      <td>Necessity is the mother of invention</td>\n",
              "      <td>2.3815</td>\n",
              "      <td>0.999761</td>\n",
              "      <td>0.000239</td>\n",
              "      <td>spoof</td>\n",
              "    </tr>\n",
              "    <tr>\n",
              "      <th>4</th>\n",
              "      <td>4</td>\n",
              "      <td>E_1000005.wav</td>\n",
              "      <td>spoof</td>\n",
              "      <td>M0025</td>\n",
              "      <td>S10</td>\n",
              "      <td>E18</td>\n",
              "      <td>P05</td>\n",
              "      <td>R03</td>\n",
              "      <td>0</td>\n",
              "      <td>/content/drive/Shareddrives/Unlimited Drive | ...</td>\n",
              "      <td>Necessity is the mother of invention</td>\n",
              "      <td>3.7725</td>\n",
              "      <td>0.767466</td>\n",
              "      <td>0.232534</td>\n",
              "      <td>spoof</td>\n",
              "    </tr>\n",
              "    <tr>\n",
              "      <th>...</th>\n",
              "      <td>...</td>\n",
              "      <td>...</td>\n",
              "      <td>...</td>\n",
              "      <td>...</td>\n",
              "      <td>...</td>\n",
              "      <td>...</td>\n",
              "      <td>...</td>\n",
              "      <td>...</td>\n",
              "      <td>...</td>\n",
              "      <td>...</td>\n",
              "      <td>...</td>\n",
              "      <td>...</td>\n",
              "      <td>...</td>\n",
              "      <td>...</td>\n",
              "      <td>...</td>\n",
              "    </tr>\n",
              "    <tr>\n",
              "      <th>13301</th>\n",
              "      <td>13301</td>\n",
              "      <td>E_1014215.wav</td>\n",
              "      <td>spoof</td>\n",
              "      <td>M0023</td>\n",
              "      <td>S03</td>\n",
              "      <td>E24</td>\n",
              "      <td>P13</td>\n",
              "      <td>R08</td>\n",
              "      <td>0</td>\n",
              "      <td>/content/drive/Shareddrives/Unlimited Drive | ...</td>\n",
              "      <td>Only lawyers love millionaires</td>\n",
              "      <td>4.1255</td>\n",
              "      <td>0.010359</td>\n",
              "      <td>0.989641</td>\n",
              "      <td>genuine</td>\n",
              "    </tr>\n",
              "    <tr>\n",
              "      <th>13302</th>\n",
              "      <td>13302</td>\n",
              "      <td>E_1014216.wav</td>\n",
              "      <td>spoof</td>\n",
              "      <td>M0032</td>\n",
              "      <td>S01</td>\n",
              "      <td>E08</td>\n",
              "      <td>P20</td>\n",
              "      <td>R14</td>\n",
              "      <td>0</td>\n",
              "      <td>/content/drive/Shareddrives/Unlimited Drive | ...</td>\n",
              "      <td>My voice is my password</td>\n",
              "      <td>2.6265</td>\n",
              "      <td>0.997256</td>\n",
              "      <td>0.002744</td>\n",
              "      <td>spoof</td>\n",
              "    </tr>\n",
              "    <tr>\n",
              "      <th>13303</th>\n",
              "      <td>13303</td>\n",
              "      <td>E_1014217.wav</td>\n",
              "      <td>genuine</td>\n",
              "      <td>M0021</td>\n",
              "      <td>S04</td>\n",
              "      <td>-</td>\n",
              "      <td>-</td>\n",
              "      <td>-</td>\n",
              "      <td>1</td>\n",
              "      <td>/content/drive/Shareddrives/Unlimited Drive | ...</td>\n",
              "      <td>Artificial intelligence is for real</td>\n",
              "      <td>3.4535</td>\n",
              "      <td>0.467420</td>\n",
              "      <td>0.532580</td>\n",
              "      <td>genuine</td>\n",
              "    </tr>\n",
              "    <tr>\n",
              "      <th>13304</th>\n",
              "      <td>13304</td>\n",
              "      <td>E_1014218.wav</td>\n",
              "      <td>spoof</td>\n",
              "      <td>M0024</td>\n",
              "      <td>S06</td>\n",
              "      <td>E19</td>\n",
              "      <td>P22</td>\n",
              "      <td>R22</td>\n",
              "      <td>0</td>\n",
              "      <td>/content/drive/Shareddrives/Unlimited Drive | ...</td>\n",
              "      <td>Actions speak louder than words</td>\n",
              "      <td>4.1355</td>\n",
              "      <td>0.997074</td>\n",
              "      <td>0.002926</td>\n",
              "      <td>spoof</td>\n",
              "    </tr>\n",
              "    <tr>\n",
              "      <th>13305</th>\n",
              "      <td>13305</td>\n",
              "      <td>E_1014219.wav</td>\n",
              "      <td>spoof</td>\n",
              "      <td>M0033</td>\n",
              "      <td>S02</td>\n",
              "      <td>E16</td>\n",
              "      <td>P07</td>\n",
              "      <td>R06</td>\n",
              "      <td>0</td>\n",
              "      <td>/content/drive/Shareddrives/Unlimited Drive | ...</td>\n",
              "      <td>OK Google</td>\n",
              "      <td>2.6625</td>\n",
              "      <td>0.638322</td>\n",
              "      <td>0.361678</td>\n",
              "      <td>spoof</td>\n",
              "    </tr>\n",
              "  </tbody>\n",
              "</table>\n",
              "<p>13306 rows × 15 columns</p>\n",
              "</div>\n",
              "      <button class=\"colab-df-convert\" onclick=\"convertToInteractive('df-83110065-fbf6-48de-ab80-bde92eb849b9')\"\n",
              "              title=\"Convert this dataframe to an interactive table.\"\n",
              "              style=\"display:none;\">\n",
              "        \n",
              "  <svg xmlns=\"http://www.w3.org/2000/svg\" height=\"24px\"viewBox=\"0 0 24 24\"\n",
              "       width=\"24px\">\n",
              "    <path d=\"M0 0h24v24H0V0z\" fill=\"none\"/>\n",
              "    <path d=\"M18.56 5.44l.94 2.06.94-2.06 2.06-.94-2.06-.94-.94-2.06-.94 2.06-2.06.94zm-11 1L8.5 8.5l.94-2.06 2.06-.94-2.06-.94L8.5 2.5l-.94 2.06-2.06.94zm10 10l.94 2.06.94-2.06 2.06-.94-2.06-.94-.94-2.06-.94 2.06-2.06.94z\"/><path d=\"M17.41 7.96l-1.37-1.37c-.4-.4-.92-.59-1.43-.59-.52 0-1.04.2-1.43.59L10.3 9.45l-7.72 7.72c-.78.78-.78 2.05 0 2.83L4 21.41c.39.39.9.59 1.41.59.51 0 1.02-.2 1.41-.59l7.78-7.78 2.81-2.81c.8-.78.8-2.07 0-2.86zM5.41 20L4 18.59l7.72-7.72 1.47 1.35L5.41 20z\"/>\n",
              "  </svg>\n",
              "      </button>\n",
              "      \n",
              "  <style>\n",
              "    .colab-df-container {\n",
              "      display:flex;\n",
              "      flex-wrap:wrap;\n",
              "      gap: 12px;\n",
              "    }\n",
              "\n",
              "    .colab-df-convert {\n",
              "      background-color: #E8F0FE;\n",
              "      border: none;\n",
              "      border-radius: 50%;\n",
              "      cursor: pointer;\n",
              "      display: none;\n",
              "      fill: #1967D2;\n",
              "      height: 32px;\n",
              "      padding: 0 0 0 0;\n",
              "      width: 32px;\n",
              "    }\n",
              "\n",
              "    .colab-df-convert:hover {\n",
              "      background-color: #E2EBFA;\n",
              "      box-shadow: 0px 1px 2px rgba(60, 64, 67, 0.3), 0px 1px 3px 1px rgba(60, 64, 67, 0.15);\n",
              "      fill: #174EA6;\n",
              "    }\n",
              "\n",
              "    [theme=dark] .colab-df-convert {\n",
              "      background-color: #3B4455;\n",
              "      fill: #D2E3FC;\n",
              "    }\n",
              "\n",
              "    [theme=dark] .colab-df-convert:hover {\n",
              "      background-color: #434B5C;\n",
              "      box-shadow: 0px 1px 3px 1px rgba(0, 0, 0, 0.15);\n",
              "      filter: drop-shadow(0px 1px 2px rgba(0, 0, 0, 0.3));\n",
              "      fill: #FFFFFF;\n",
              "    }\n",
              "  </style>\n",
              "\n",
              "      <script>\n",
              "        const buttonEl =\n",
              "          document.querySelector('#df-83110065-fbf6-48de-ab80-bde92eb849b9 button.colab-df-convert');\n",
              "        buttonEl.style.display =\n",
              "          google.colab.kernel.accessAllowed ? 'block' : 'none';\n",
              "\n",
              "        async function convertToInteractive(key) {\n",
              "          const element = document.querySelector('#df-83110065-fbf6-48de-ab80-bde92eb849b9');\n",
              "          const dataTable =\n",
              "            await google.colab.kernel.invokeFunction('convertToInteractive',\n",
              "                                                     [key], {});\n",
              "          if (!dataTable) return;\n",
              "\n",
              "          const docLinkHtml = 'Like what you see? Visit the ' +\n",
              "            '<a target=\"_blank\" href=https://colab.research.google.com/notebooks/data_table.ipynb>data table notebook</a>'\n",
              "            + ' to learn more about interactive tables.';\n",
              "          element.innerHTML = '';\n",
              "          dataTable['output_type'] = 'display_data';\n",
              "          await google.colab.output.renderOutput(dataTable, element);\n",
              "          const docLink = document.createElement('div');\n",
              "          docLink.innerHTML = docLinkHtml;\n",
              "          element.appendChild(docLink);\n",
              "        }\n",
              "      </script>\n",
              "    </div>\n",
              "  </div>\n",
              "  "
            ]
          },
          "metadata": {},
          "execution_count": 44
        }
      ],
      "source": [
        "prediction=pd.read_csv('/content/drive/Shareddrives/Unlimited Drive | @LicenseMarket/score_pred/prediction.csv')\n",
        "prediction"
      ]
    },
    {
      "cell_type": "code",
      "source": [
        "CalEER(y_true,np.array(y_probs)[:,1])"
      ],
      "metadata": {
        "colab": {
          "base_uri": "https://localhost:8080/",
          "height": 382
        },
        "id": "CCHDdLnbps61",
        "outputId": "5686a24e-f673-4649-a726-07d68e784549"
      },
      "execution_count": null,
      "outputs": [
        {
          "output_type": "stream",
          "name": "stdout",
          "text": [
            "eer_thresholds: 0.77423257\n",
            "EER_fpr: 9.618587608261159\n",
            "EER_fnr: 9.553158705701081\n",
            "EER: 9.58587315698112\n"
          ]
        },
        {
          "output_type": "display_data",
          "data": {
            "text/plain": [
              "<Figure size 432x288 with 1 Axes>"
            ],
            "image/png": "[encoded data removed]"
          },
          "metadata": {
            "needs_background": "light"
          }
        },
        {
          "output_type": "execute_result",
          "data": {
            "text/plain": [
              "0.77423257"
            ]
          },
          "metadata": {},
          "execution_count": 45
        }
      ]
    },
    {
      "cell_type": "code",
      "execution_count": null,
      "metadata": {
        "colab": {
          "base_uri": "https://localhost:8080/",
          "height": 382
        },
        "id": "r1Wb_Oj8e-ma",
        "outputId": "53918001-bc46-48bd-e8a3-5f2f02ae18f9"
      },
      "outputs": [
        {
          "output_type": "stream",
          "name": "stdout",
          "text": [
            "eer_thresholds: 0.77423275\n",
            "EER_fpr: 9.618587608261159\n",
            "EER_fnr: 9.553158705701081\n",
            "EER: 9.58587315698112\n"
          ]
        },
        {
          "output_type": "display_data",
          "data": {
            "text/plain": [
              "<Figure size 432x288 with 1 Axes>"
            ],
            "image/png": "[encoded data removed]"
          },
          "metadata": {
            "needs_background": "light"
          }
        },
        {
          "output_type": "execute_result",
          "data": {
            "text/plain": [
              "0.77423275"
            ]
          },
          "metadata": {},
          "execution_count": 63
        }
      ],
      "source": [
        "CalEER(y_true,np.array(y_probs)[:,1])"
      ]
    },
    {
      "cell_type": "code",
      "source": [
        "fpr,tpr,thresholds = roc_curve(y_true,np.array(y_probs)[:,1])\n",
        "fnr = 1 - tpr\n",
        "fpr1,tpr1,thresholds1 = roc_curve(devLabel,dev_prediction[:,1])\n",
        "fnr1 = 1 - tpr1\n",
        "EER_fpr = fpr[np.nanargmin(np.absolute((fnr-fpr)))]\n",
        "EER_fnr = fnr[np.nanargmin(np.absolute((fnr-fpr)))]\n",
        "EER = (EER_fpr+EER_fnr)/2\n",
        "EER_fpr1 = fpr1[np.nanargmin(np.absolute((fnr1-fpr1)))]\n",
        "EER_fnr1 = fnr1[np.nanargmin(np.absolute((fnr1-fpr1)))]\n",
        "EER1 = (EER_fpr1+EER_fnr1)/2\n",
        "print (\"EER:\",EER*100)\n",
        "print (\"EER:\",EER1*100)\n",
        "plt.plot(fpr,tpr,color=\"red\",label='Evaluation')\n",
        "plt.plot(fpr1,tpr1,color=\"yellow\",label='development')\n",
        "plt.plot(np.arange(0.0,1.0,0.01),1.0-np.arange(0.0,1.0,0.01),color=\"blue\")\n",
        "plt.annotate(EER*100,xy=(EER,1-EER),xytext=(0.1+EER,1-EER-0.02),arrowprops=dict(arrowstyle='->',connectionstyle='arc3'))\n",
        "plt.annotate(EER1*100,xy=(EER1,1-EER1),xytext=(0.1+EER1,1-EER1),arrowprops=dict(arrowstyle='->',connectionstyle='arc3'))\n",
        "plt.xlim([0.0,1.0])\n",
        "plt.ylim([0.0,1.0])\n",
        "plt.title(\"ROC curve for cnn_vit classifier\")\n",
        "plt.xlabel(\"False Positive Rate (1-Specificity)\")\n",
        "plt.ylabel(\"True positive Rate (Sensitivity)\")\n",
        "plt.grid(True)\n",
        "plt.show()"
      ],
      "metadata": {
        "colab": {
          "base_uri": "https://localhost:8080/",
          "height": 330
        },
        "id": "q6ciuATka3ft",
        "outputId": "e4a9adfc-37ff-444a-cfd7-2b4f348098c3"
      },
      "execution_count": null,
      "outputs": [
        {
          "output_type": "stream",
          "name": "stdout",
          "text": [
            "EER: 9.58587315698112\n",
            "EER: 6.907894736842107\n"
          ]
        },
        {
          "output_type": "display_data",
          "data": {
            "text/plain": [
              "<Figure size 432x288 with 1 Axes>"
            ],
            "image/png": "[encoded data removed]"
          },
          "metadata": {
            "needs_background": "light"
          }
        }
      ]
    },
    {
      "cell_type": "code",
      "source": [
        "fpr,tpr,thresholds = roc_curve(y_true,np.array(y_probs)[:,1])\n",
        "fnr = 1 - tpr\n",
        "EER_fpr = fpr[np.nanargmin(np.absolute((fnr-fpr)))]\n",
        "EER_fnr = fnr[np.nanargmin(np.absolute((fnr-fpr)))]\n",
        "EER = (EER_fpr+EER_fnr)/2\n",
        "fpr1,tpr1,thresholds1 = roc_curve(devLabel,dev_prediction[:,1])\n",
        "fnr1 = 1 - tpr1\n",
        "EER_fpr1 = fpr1[np.nanargmin(np.absolute((fnr1-fpr1)))]\n",
        "EER_fnr1 = fnr1[np.nanargmin(np.absolute((fnr1-fpr1)))]\n",
        "EER1 = (EER_fpr1+EER_fnr1)/2\n",
        "plt.plot(fpr*100,fnr*100,color=\"yellow\",label='Evaluation')\n",
        "plt.plot(fpr1*100,fnr1*100,color=\"green\",label='development')\n",
        "plt.plot(np.arange(0,100,1),np.arange(0,100,1),color=\"blue\")\n",
        "plt.annotate(EER*100,xy=(EER*100,EER*100),xytext=(EER*100+6,EER*100+4),\n",
        "                 arrowprops=dict(arrowstyle='->',connectionstyle='arc3'))\n",
        "plt.annotate(EER1*100,xy=(EER1*100,EER1*100),xytext=(EER1*100+10,EER1*100),arrowprops=dict(arrowstyle='->',connectionstyle='arc3'))\n",
        "plt.xlim([2,50])\n",
        "plt.ylim([2,50])\n",
        "plt.title(\"DET curve for classifier\")\n",
        "plt.xlabel(\"false possitive rate(in %)\")\n",
        "plt.ylabel(\"false negative rate (in %)\")\n",
        "plt.grid(True)\n",
        "plt.legend()\n",
        "plt.show()"
      ],
      "metadata": {
        "colab": {
          "base_uri": "https://localhost:8080/",
          "height": 295
        },
        "id": "A_RXfseSZRFA",
        "outputId": "5e6dc6cc-747d-4560-92eb-6804ff269e42"
      },
      "execution_count": null,
      "outputs": [
        {
          "output_type": "display_data",
          "data": {
            "text/plain": [
              "<Figure size 432x288 with 1 Axes>"
            ],
            "image/png": "[encoded data removed]"
          },
          "metadata": {
            "needs_background": "light"
          }
        }
      ]
    },
    {
      "cell_type": "code",
      "execution_count": null,
      "metadata": {
        "id": "M6xZHlyHfCG9",
        "colab": {
          "base_uri": "https://localhost:8080/"
        },
        "outputId": "039f7d36-52ca-4a29-d725-615cb7d18ded"
      },
      "outputs": [
        {
          "output_type": "stream",
          "name": "stdout",
          "text": [
            "              precision    recall  f1-score   support\n",
            "\n",
            "           0       0.99      0.90      0.94     12008\n",
            "           1       0.49      0.91      0.64      1298\n",
            "\n",
            "    accuracy                           0.90     13306\n",
            "   macro avg       0.74      0.90      0.79     13306\n",
            "weighted avg       0.94      0.90      0.91     13306\n",
            "\n",
            "TP: 1178 FN: 120\n",
            "FP: 1225 TN: 10783\n",
            "Recall: 90.75500770416025\n",
            "Specificity: 89.79846768820786\n",
            "1-Specificity 10.201532311792139\n",
            "Precision: 49.0220557636288\n"
          ]
        }
      ],
      "source": [
        "yPred=np.where(np.array(y_probs)[:,1] > 0.7396792, 1,0)\n",
        "analysisModel(y_true,yPred)"
      ]
    },
    {
      "cell_type": "code",
      "source": [
        "def plot_confusion_matrix(cm,\n",
        "                          target_names,\n",
        "                          title='Confusion matrix',\n",
        "                          cmap=None,\n",
        "                          normalize=True):\n",
        "\n",
        "    import matplotlib.pyplot as plt\n",
        "    import numpy as np\n",
        "    import itertools\n",
        "\n",
        "    accuracy = np.trace(cm) / float(np.sum(cm))\n",
        "    misclass = 1 - accuracy\n",
        "\n",
        "    if cmap is None:\n",
        "        cmap = plt.get_cmap('Blues')\n",
        "\n",
        "    plt.figure(figsize=(8, 6))\n",
        "    plt.imshow(cm, interpolation='nearest', cmap=cmap)\n",
        "    plt.title(title)\n",
        "    plt.colorbar()\n",
        "\n",
        "    if target_names is not None:\n",
        "        tick_marks = np.arange(len(target_names))\n",
        "        plt.xticks(tick_marks, target_names, rotation=45)\n",
        "        plt.yticks(tick_marks, target_names)\n",
        "\n",
        "    if normalize:\n",
        "        cm = cm.astype('float') / cm.sum(axis=1)[:, np.newaxis]\n",
        "\n",
        "\n",
        "    thresh = cm.max() / 1.5 if normalize else cm.max() / 2\n",
        "    for i, j in itertools.product(range(cm.shape[0]), range(cm.shape[1])):\n",
        "        if normalize:\n",
        "            plt.text(j, i, \"{:0.4f}\".format(cm[i, j]),\n",
        "                     horizontalalignment=\"center\",\n",
        "                     color=\"white\" if cm[i, j] > thresh else \"black\")\n",
        "        else:\n",
        "            plt.text(j, i, \"{:,}\".format(cm[i, j]),\n",
        "                     horizontalalignment=\"center\",\n",
        "                     color=\"white\" if cm[i, j] > thresh else \"black\")\n",
        "\n",
        "\n",
        "    plt.tight_layout()\n",
        "    plt.ylabel('True label')\n",
        "    plt.xlabel('Predicted label\\naccuracy={:0.4f}; misclass={:0.4f}'.format(accuracy, misclass))\n",
        "    plt.show()"
      ],
      "metadata": {
        "id": "b5YvTwNY5W72"
      },
      "execution_count": null,
      "outputs": []
    },
    {
      "cell_type": "code",
      "source": [
        "plot_confusion_matrix(cm           = np.array([[ 1178 ,  120],\n",
        "                                              [  1225 ,  10783]]), \n",
        "                      normalize    = False,\n",
        "                      target_names = [ 'genuine','spoof' ],\n",
        "                      title        = \"Confusion Matrix\")"
      ],
      "metadata": {
        "colab": {
          "base_uri": "https://localhost:8080/",
          "height": 467
        },
        "id": "8BiLs8_S5f-4",
        "outputId": "d3cd9c9c-0a7d-4be5-cad4-53263a03d77f"
      },
      "execution_count": null,
      "outputs": [
        {
          "output_type": "display_data",
          "data": {
            "text/plain": [
              "<Figure size 576x432 with 2 Axes>"
            ],
            "image/png": "[encoded data removed]"
          },
          "metadata": {
            "needs_background": "light"
          }
        }
      ]
    },
    {
      "cell_type": "markdown",
      "metadata": {
        "id": "A_v8aTJjjtdQ"
      },
      "source": [
        "#Eval1"
      ]
    },
    {
      "cell_type": "code",
      "execution_count": null,
      "metadata": {
        "id": "pttLxOuajvx1"
      },
      "outputs": [],
      "source": [
        "evalData = np.load('/content/drive/Shareddrives/Unlimited Drive | @LicenseMarket/log_power_spectrogram_864_400_100_800/eval/eval_1.npy')\n",
        "evalLabel = np.load('/content/drive/Shareddrives/Unlimited Drive | @LicenseMarket/log_power_spectrogram_864_400_100_800/eval_lable/eval_1_label.npy')\n",
        "img_rows, img_cols =evalData[0].shape\n",
        "x_test = evalData.reshape(evalData.shape[0], img_rows, img_cols, 1)\n",
        "y_test = keras.utils.np_utils.to_categorical(evalLabel,num_classes)\n",
        "    "
      ]
    },
    {
      "cell_type": "code",
      "execution_count": null,
      "metadata": {
        "colab": {
          "base_uri": "https://localhost:8080/"
        },
        "id": "BJl7_dky_kBt",
        "outputId": "a5ea2699-bd2a-437c-eecb-8306e67102b9"
      },
      "outputs": [
        {
          "name": "stdout",
          "output_type": "stream",
          "text": [
            "120/120 [==============================] - 45s 234ms/step - loss: 0.5885 - accuracy: 0.7667\n",
            "Test loss: 0.5884509086608887\n",
            "Test accuracy: 0.7666579484939575\n"
          ]
        }
      ],
      "source": [
        "model.load_weights('/content/drive/Shareddrives/Unlimited Drive | @LicenseMarket/models/lcnn_T_blackman_frames864_sgd_epochs25_lr0.001.h5')\n",
        "score = model.evaluate(x_test, y_test, verbose=1)\n",
        "print('Test loss:', score[0])\n",
        "print('Test accuracy:', score[1])"
      ]
    },
    {
      "cell_type": "code",
      "execution_count": null,
      "metadata": {
        "colab": {
          "base_uri": "https://localhost:8080/"
        },
        "id": "h5reefdSAZTV",
        "outputId": "afa665f8-d927-48d7-bff8-02ef28d93790"
      },
      "outputs": [
        {
          "data": {
            "text/plain": [
              "875"
            ]
          },
          "execution_count": 30,
          "metadata": {},
          "output_type": "execute_result"
        }
      ],
      "source": [
        "del score\n",
        "import gc\n",
        "gc.collect()"
      ]
    },
    {
      "cell_type": "code",
      "execution_count": null,
      "metadata": {
        "colab": {
          "base_uri": "https://localhost:8080/",
          "height": 399
        },
        "id": "GZDD5jL4kNuu",
        "outputId": "02385c5a-9415-4c23-c7cc-32fa1d2dbc0a"
      },
      "outputs": [
        {
          "name": "stdout",
          "output_type": "stream",
          "text": [
            "********************Scores on testSet*********************\n",
            "eer_thresholds: 0.65270096\n",
            "EER_fpr: 16.61841343370006\n",
            "EER_fnr: 16.621983914209114\n",
            "EER: 16.620198673954587\n"
          ]
        },
        {
          "data": {
            "image/png": "[encoded data removed]",
            "text/plain": [
              "<Figure size 432x288 with 1 Axes>"
            ]
          },
          "metadata": {},
          "output_type": "display_data"
        },
        {
          "data": {
            "text/plain": [
              "0.65270096"
            ]
          },
          "execution_count": 32,
          "metadata": {},
          "output_type": "execute_result"
        }
      ],
      "source": [
        "print('********************Scores on testSet*********************')\n",
        "#yPred = model.predict_classes(x_test)\n",
        "model.load_weights('/content/drive/Shareddrives/Unlimited Drive | @LicenseMarket/models/lcnn_T_blackman_frames864_sgd_epochs25_lr0.001.h5')\n",
        "prediction = model.predict(x_test)#prob of classes\n",
        "#score = model.evaluate(x_test, y_test, verbose=1)\n",
        "\n",
        "CalEER(evalLabel,prediction[:,1])\n",
        "#analysisModel(evalLabel,yPred)\n",
        "\n",
        "#print('Test loss:', score[0])\n",
        "#print('Test accuracy:', score[1])"
      ]
    },
    {
      "cell_type": "code",
      "execution_count": null,
      "metadata": {
        "colab": {
          "base_uri": "https://localhost:8080/"
        },
        "id": "nIPyMxNnk2-W",
        "outputId": "93addd32-4566-4ead-af79-14f3c93b4d43"
      },
      "outputs": [
        {
          "name": "stdout",
          "output_type": "stream",
          "text": [
            "              precision    recall  f1-score   support\n",
            "\n",
            "           0       0.99      0.91      0.95      3454\n",
            "           1       0.51      0.90      0.65       373\n",
            "\n",
            "    accuracy                           0.91      3827\n",
            "   macro avg       0.75      0.90      0.80      3827\n",
            "weighted avg       0.94      0.91      0.92      3827\n",
            "\n",
            "TP: 337 FN: 36\n",
            "FP: 325 TN: 3129\n",
            "Recall: 90.3485254691689\n",
            "Specificity: 90.59061957151128\n",
            "1-Specificity 9.409380428488708\n",
            "Precision: 50.90634441087614\n"
          ]
        }
      ],
      "source": [
        "yPred=np.where(prediction[:,1] > 0.7396792, 1,0)\n",
        "analysisModel(evalLabel,yPred)"
      ]
    },
    {
      "cell_type": "markdown",
      "metadata": {
        "id": "p4V453rNPd3D"
      },
      "source": [
        "#EVAL2"
      ]
    },
    {
      "cell_type": "code",
      "execution_count": null,
      "metadata": {
        "id": "tyEQZ43HPgJs"
      },
      "outputs": [],
      "source": [
        "evalData = np.load('/content/drive/Shareddrives/Unlimited Drive | @LicenseMarket/log_power_spectrogram_864_400_100_800/eval/eval_2.npy')\n",
        "evalLabel = np.load('/content/drive/Shareddrives/Unlimited Drive | @LicenseMarket/log_power_spectrogram_864_400_100_800/eval_lable/eval_2_label.npy')\n",
        "img_rows, img_cols =evalData[0].shape\n",
        "x_test = evalData.reshape(evalData.shape[0], img_rows, img_cols, 1)\n",
        "y_test = keras.utils.np_utils.to_categorical(evalLabel,num_classes)"
      ]
    },
    {
      "cell_type": "code",
      "execution_count": null,
      "metadata": {
        "colab": {
          "base_uri": "https://localhost:8080/"
        },
        "id": "lnZzlNeOPn-r",
        "outputId": "75c94d06-a3d4-472b-9a2c-0731956ab36c"
      },
      "outputs": [
        {
          "name": "stdout",
          "output_type": "stream",
          "text": [
            "120/120 [==============================] - 47s 234ms/step - loss: 0.5995 - accuracy: 0.7618\n",
            "Test loss: 0.5995193123817444\n",
            "Test accuracy: 0.7617678046226501\n"
          ]
        }
      ],
      "source": [
        "model.load_weights('/content/drive/Shareddrives/Unlimited Drive | @LicenseMarket/models/lcnn_T_blackman_frames864_sgd_epochs25_lr0.001.h5')\n",
        "score = model.evaluate(x_test, y_test, verbose=1)\n",
        "print('Test loss:', score[0])\n",
        "print('Test accuracy:', score[1])"
      ]
    },
    {
      "cell_type": "code",
      "execution_count": null,
      "metadata": {
        "colab": {
          "base_uri": "https://localhost:8080/"
        },
        "id": "lpFuACYKTTZS",
        "outputId": "f5dc78b3-c4f8-4efb-c599-6e80225f8998"
      },
      "outputs": [
        {
          "data": {
            "text/plain": [
              "791"
            ]
          },
          "execution_count": 25,
          "metadata": {},
          "output_type": "execute_result"
        }
      ],
      "source": [
        "del score\n",
        "import gc\n",
        "gc.collect()"
      ]
    },
    {
      "cell_type": "code",
      "execution_count": null,
      "metadata": {
        "colab": {
          "base_uri": "https://localhost:8080/",
          "height": 399
        },
        "id": "tYd1Zu1uPtNE",
        "outputId": "524242f3-8cba-4093-c5a0-76e888479745"
      },
      "outputs": [
        {
          "name": "stdout",
          "output_type": "stream",
          "text": [
            "********************Scores on testSet*********************\n",
            "eer_thresholds: 0.6327702\n",
            "EER_fpr: 17.494226327944574\n",
            "EER_fnr: 17.500000000000004\n",
            "EER: 17.497113163972287\n"
          ]
        },
        {
          "data": {
            "image/png": "[encoded data removed]",
            "text/plain": [
              "<Figure size 432x288 with 1 Axes>"
            ]
          },
          "metadata": {},
          "output_type": "display_data"
        },
        {
          "data": {
            "text/plain": [
              "0.6327702"
            ]
          },
          "execution_count": 26,
          "metadata": {},
          "output_type": "execute_result"
        }
      ],
      "source": [
        "print('********************Scores on testSet*********************')\n",
        "#yPred = model.predict_classes(x_test)\n",
        "model.load_weights('/content/drive/Shareddrives/Unlimited Drive | @LicenseMarket/models/lcnn_T_blackman_frames864_sgd_epochs25_lr0.001.h5')\n",
        "prediction = model.predict(x_test)#prob of classes\n",
        "#score = model.evaluate(x_test, y_test, verbose=1)\n",
        "\n",
        "CalEER(evalLabel,prediction[:,1])\n",
        "#analysisModel(evalLabel,yPred)\n",
        "\n",
        "#print('Test loss:', score[0])\n",
        "#print('Test accuracy:', score[1])"
      ]
    },
    {
      "cell_type": "code",
      "execution_count": null,
      "metadata": {
        "colab": {
          "base_uri": "https://localhost:8080/"
        },
        "id": "tvcmQh7gPvhk",
        "outputId": "472c031e-d899-4895-a723-6f4b01f0a9ea"
      },
      "outputs": [
        {
          "name": "stdout",
          "output_type": "stream",
          "text": [
            "              precision    recall  f1-score   support\n",
            "\n",
            "           0       0.98      0.83      0.90      3464\n",
            "           1       0.33      0.82      0.47       360\n",
            "\n",
            "    accuracy                           0.83      3824\n",
            "   macro avg       0.65      0.83      0.68      3824\n",
            "weighted avg       0.92      0.83      0.86      3824\n",
            "\n",
            "TP: 297 FN: 63\n",
            "FP: 605 TN: 2859\n",
            "Recall: 82.5\n",
            "Specificity: 82.53464203233256\n",
            "1-Specificity 17.465357967667437\n",
            "Precision: 32.926829268292686\n"
          ]
        }
      ],
      "source": [
        "yPred=np.where(prediction[:,1] > 0.6327702, 1,0)\n",
        "analysisModel(evalLabel,yPred)"
      ]
    },
    {
      "cell_type": "markdown",
      "metadata": {
        "id": "ZK26iV5UtUm3"
      },
      "source": [
        "#EVAL3"
      ]
    },
    {
      "cell_type": "code",
      "execution_count": null,
      "metadata": {
        "id": "riXur8L5sQhk"
      },
      "outputs": [],
      "source": [
        "evalData = np.load('/content/drive/Shareddrives/Unlimited Drive | @LicenseMarket/log_power_spectrogram_864_400_100_800/eval/eval_3.npy')\n",
        "evalLabel = np.load('/content/drive/Shareddrives/Unlimited Drive | @LicenseMarket/log_power_spectrogram_864_400_100_800/eval_lable/eval_3_label.npy')\n",
        "img_rows, img_cols =evalData[0].shape\n",
        "x_test = evalData.reshape(evalData.shape[0], img_rows, img_cols, 1)\n",
        "y_test = keras.utils.np_utils.to_categorical(evalLabel,num_classes)"
      ]
    },
    {
      "cell_type": "code",
      "execution_count": null,
      "metadata": {
        "colab": {
          "base_uri": "https://localhost:8080/"
        },
        "id": "EDgyQyBYsotM",
        "outputId": "10766e50-8fd1-49f6-9730-0dacc6d4bbe2"
      },
      "outputs": [
        {
          "name": "stdout",
          "output_type": "stream",
          "text": [
            "80/80 [==============================] - 22s 134ms/step - loss: 0.3647 - accuracy: 0.8740\n",
            "Test loss: 0.3647288680076599\n",
            "Test accuracy: 0.8740188479423523\n"
          ]
        }
      ],
      "source": [
        "model.load_weights('/content/drive/Shareddrives/Unlimited Drive | @LicenseMarket/models/lcnn_T_blackman_frames864_sgd_epochs25_lr0.001.h5')\n",
        "score = model.evaluate(x_test, y_test, verbose=1)\n",
        "print('Test loss:', score[0])\n",
        "print('Test accuracy:', score[1])"
      ]
    },
    {
      "cell_type": "code",
      "execution_count": null,
      "metadata": {
        "colab": {
          "base_uri": "https://localhost:8080/",
          "height": 399
        },
        "id": "Rld6PVLHsZRx",
        "outputId": "e4c930a8-5443-4aeb-ace0-683e3b09fa03"
      },
      "outputs": [
        {
          "name": "stdout",
          "output_type": "stream",
          "text": [
            "********************Scores on testSet*********************\n",
            "eer_thresholds: 0.5703675\n",
            "EER_fpr: 11.840354767184035\n",
            "EER_fnr: 11.945392491467576\n",
            "EER: 11.892873629325805\n"
          ]
        },
        {
          "data": {
            "image/png": "[encoded data removed]",
            "text/plain": [
              "<Figure size 432x288 with 1 Axes>"
            ]
          },
          "metadata": {},
          "output_type": "display_data"
        },
        {
          "data": {
            "text/plain": [
              "0.5703675"
            ]
          },
          "execution_count": 19,
          "metadata": {},
          "output_type": "execute_result"
        }
      ],
      "source": [
        "print('********************Scores on testSet*********************')\n",
        "#yPred = model.predict_classes(x_test)\n",
        "model.load_weights('/content/drive/Shareddrives/Unlimited Drive | @LicenseMarket/models/lcnn_T_blackman_frames864_sgd_epochs25_lr0.001.h5')\n",
        "prediction = model.predict(x_test)#prob of classes\n",
        "#score = model.evaluate(x_test, y_test, verbose=1)\n",
        "\n",
        "CalEER(evalLabel,prediction[:,1])\n",
        "#analysisModel(evalLabel,yPred)\n",
        "\n",
        "#print('Test loss:', score[0])\n",
        "#print('Test accuracy:', score[1])"
      ]
    },
    {
      "cell_type": "code",
      "execution_count": null,
      "metadata": {
        "colab": {
          "base_uri": "https://localhost:8080/"
        },
        "id": "gHgEQO4TsdQa",
        "outputId": "7cbed998-cc6d-4c8a-fb07-35b96b149ecd"
      },
      "outputs": [
        {
          "name": "stdout",
          "output_type": "stream",
          "text": [
            "              precision    recall  f1-score   support\n",
            "\n",
            "           0       0.98      0.88      0.93      2255\n",
            "           1       0.49      0.88      0.63       293\n",
            "\n",
            "    accuracy                           0.88      2548\n",
            "   macro avg       0.74      0.88      0.78      2548\n",
            "weighted avg       0.93      0.88      0.89      2548\n",
            "\n",
            "TP: 257 FN: 36\n",
            "FP: 267 TN: 1988\n",
            "Recall: 87.71331058020478\n",
            "Specificity: 88.15964523281596\n",
            "1-Specificity 11.840354767184035\n",
            "Precision: 49.04580152671756\n"
          ]
        }
      ],
      "source": [
        "yPred=np.where(prediction[:,1] > 0.5703675, 1,0)\n",
        "analysisModel(evalLabel,yPred)"
      ]
    },
    {
      "cell_type": "markdown",
      "metadata": {
        "id": "5oj9lJRTtWMX"
      },
      "source": [
        "#EVAL4"
      ]
    },
    {
      "cell_type": "code",
      "execution_count": null,
      "metadata": {
        "colab": {
          "base_uri": "https://localhost:8080/"
        },
        "id": "XMNjrZKGQlKj",
        "outputId": "2aaabb14-674f-409b-b187-366de4a3f38a"
      },
      "outputs": [
        {
          "data": {
            "text/plain": [
              "757"
            ]
          },
          "execution_count": 24,
          "metadata": {},
          "output_type": "execute_result"
        }
      ],
      "source": [
        "del score\n",
        "import gc\n",
        "gc.collect()"
      ]
    },
    {
      "cell_type": "code",
      "execution_count": null,
      "metadata": {
        "id": "NMcNsxDTtckr"
      },
      "outputs": [],
      "source": [
        "evalData = np.load('/content/drive/Shareddrives/Unlimited Drive | @LicenseMarket/log_power_spectrogram_864_400_100_800/eval/eval_4.npy')\n",
        "evalLabel = np.load('/content/drive/Shareddrives/Unlimited Drive | @LicenseMarket/log_power_spectrogram_864_400_100_800/eval_lable/eval_4_label.npy')\n",
        "img_rows, img_cols =evalData[0].shape\n",
        "x_test = evalData.reshape(evalData.shape[0], img_rows, img_cols, 1)\n",
        "y_test = keras.utils.np_utils.to_categorical(evalLabel,num_classes)"
      ]
    },
    {
      "cell_type": "code",
      "execution_count": null,
      "metadata": {
        "colab": {
          "base_uri": "https://localhost:8080/"
        },
        "id": "3bRh-PS3tvzE",
        "outputId": "7e596629-237a-4a1e-f678-bb660bcca0ba"
      },
      "outputs": [
        {
          "name": "stdout",
          "output_type": "stream",
          "text": [
            "98/98 [==============================] - 15s 143ms/step - loss: 0.3700 - accuracy: 0.8693\n",
            "Test loss: 0.3699861466884613\n",
            "Test accuracy: 0.8693273067474365\n"
          ]
        }
      ],
      "source": [
        "model.load_weights('/content/drive/Shareddrives/Unlimited Drive | @LicenseMarket/models/lcnn_T_blackman_frames864_sgd_epochs25_lr0.001.h5')\n",
        "score = model.evaluate(x_test, y_test, verbose=1)\n",
        "print('Test loss:', score[0])\n",
        "print('Test accuracy:', score[1])"
      ]
    },
    {
      "cell_type": "code",
      "execution_count": null,
      "metadata": {
        "colab": {
          "base_uri": "https://localhost:8080/",
          "height": 399
        },
        "id": "5bc8qxzEty6b",
        "outputId": "399c7c56-0d08-46e0-c9a8-e451a30d36c9"
      },
      "outputs": [
        {
          "name": "stdout",
          "output_type": "stream",
          "text": [
            "********************Scores on testSet*********************\n",
            "eer_thresholds: 0.6418277\n",
            "EER_fpr: 11.146384479717813\n",
            "EER_fnr: 11.397058823529417\n",
            "EER: 11.271721651623615\n"
          ]
        },
        {
          "data": {
            "image/png": "[encoded data removed]",
            "text/plain": [
              "<Figure size 432x288 with 1 Axes>"
            ]
          },
          "metadata": {},
          "output_type": "display_data"
        },
        {
          "data": {
            "text/plain": [
              "0.6418277"
            ]
          },
          "execution_count": 25,
          "metadata": {},
          "output_type": "execute_result"
        }
      ],
      "source": [
        "print('********************Scores on testSet*********************')\n",
        "#yPred = model.predict_classes(x_test)\n",
        "model.load_weights('/content/drive/Shareddrives/Unlimited Drive | @LicenseMarket/models/lcnn_T_blackman_frames864_sgd_epochs25_lr0.001.h5')\n",
        "prediction = model.predict(x_test)#prob of classes\n",
        "#score = model.evaluate(x_test, y_test, verbose=1)\n",
        "\n",
        "CalEER(evalLabel,prediction[:,1])\n",
        "#analysisModel(evalLabel,yPred)\n",
        "\n",
        "#print('Test loss:', score[0])\n",
        "#print('Test accuracy:', score[1])"
      ]
    },
    {
      "cell_type": "code",
      "execution_count": null,
      "metadata": {
        "colab": {
          "base_uri": "https://localhost:8080/"
        },
        "id": "sNhO9OX2utg1",
        "outputId": "0e4b88f4-12fc-4ec7-fea1-d991f2dcdafd"
      },
      "outputs": [
        {
          "name": "stdout",
          "output_type": "stream",
          "text": [
            "              precision    recall  f1-score   support\n",
            "\n",
            "           0       0.99      0.89      0.94      2835\n",
            "           1       0.43      0.89      0.58       272\n",
            "\n",
            "    accuracy                           0.89      3107\n",
            "   macro avg       0.71      0.89      0.76      3107\n",
            "weighted avg       0.94      0.89      0.90      3107\n",
            "\n",
            "TP: 241 FN: 31\n",
            "FP: 315 TN: 2520\n",
            "Recall: 88.60294117647058\n",
            "Specificity: 88.88888888888889\n",
            "1-Specificity 11.11111111111111\n",
            "Precision: 43.3453237410072\n"
          ]
        }
      ],
      "source": [
        "yPred=np.where(prediction[:,1] >0.6418277, 1,0)\n",
        "analysisModel(evalLabel,yPred)"
      ]
    },
    {
      "cell_type": "code",
      "source": [
        "fpr,fnr,_=det_curve(devLabel,dev_prediction[:,1], pos_label=1)"
      ],
      "metadata": {
        "id": "n3wIOt1pHcHf"
      },
      "execution_count": null,
      "outputs": []
    },
    {
      "cell_type": "code",
      "source": [
        "display = DetCurveDisplay(fpr=fpr, fnr=fnr, estimator_name=\"development\")\n",
        "display.plot()\n",
        "plt.show()"
      ],
      "metadata": {
        "colab": {
          "base_uri": "https://localhost:8080/",
          "height": 279
        },
        "id": "19CuX0UfaS-M",
        "outputId": "feef1c88-24d4-4721-bcbc-cb0cbe7c2cea"
      },
      "execution_count": null,
      "outputs": [
        {
          "output_type": "display_data",
          "data": {
            "text/plain": [
              "<Figure size 432x288 with 1 Axes>"
            ],
            "image/png": "[encoded data removed]"
          },
          "metadata": {
            "needs_background": "light"
          }
        }
      ]
    },
    {
      "cell_type": "code",
      "source": [
        "DetCurveDisplay.from_predictions(y_true,np.array(y_probs)[:,1],name='evaluation')"
      ],
      "metadata": {
        "colab": {
          "base_uri": "https://localhost:8080/",
          "height": 296
        },
        "id": "1QeEDflqfbOB",
        "outputId": "b4be2214-4b82-4131-ccf8-849ca0bbaeaf"
      },
      "execution_count": null,
      "outputs": [
        {
          "output_type": "execute_result",
          "data": {
            "text/plain": [
              "<sklearn.metrics._plot.det_curve.DetCurveDisplay at 0x7fdaecd76fd0>"
            ]
          },
          "metadata": {},
          "execution_count": 36
        },
        {
          "output_type": "display_data",
          "data": {
            "text/plain": [
              "<Figure size 432x288 with 1 Axes>"
            ],
            "image/png": "[encoded data removed]"
          },
          "metadata": {
            "needs_background": "light"
          }
        }
      ]
    },
    {
      "cell_type": "code",
      "source": [
        "fpr1,fnr1,_=det_curve(y_true,np.array(y_probs)[:,1], pos_label=1)"
      ],
      "metadata": {
        "id": "rXAhsMbTCjlI"
      },
      "execution_count": null,
      "outputs": []
    },
    {
      "cell_type": "code",
      "source": [
        "display1 = DetCurveDisplay(fpr=fpr1, fnr=fnr1, estimator_name=\"evaluation\")\n",
        "display1.plot()\n",
        "display.plot()\n",
        "plt.show()"
      ],
      "metadata": {
        "colab": {
          "base_uri": "https://localhost:8080/",
          "height": 541
        },
        "id": "rBAuFI1gDIQl",
        "outputId": "32a57fef-b286-4385-d044-886997c3c84e"
      },
      "execution_count": null,
      "outputs": [
        {
          "output_type": "display_data",
          "data": {
            "text/plain": [
              "<Figure size 432x288 with 1 Axes>"
            ],
            "image/png": "[encoded data removed]"
          },
          "metadata": {
            "needs_background": "light"
          }
        },
        {
          "output_type": "display_data",
          "data": {
            "text/plain": [
              "<Figure size 432x288 with 1 Axes>"
            ],
            "image/png": "[encoded data removed]"
          },
          "metadata": {
            "needs_background": "light"
          }
        }
      ]
    }
  ],
  "metadata": {
    "colab": {
      "machine_shape": "hm",
      "provenance": []
    },
    "gpuClass": "standard",
    "kernelspec": {
      "display_name": "Python 3",
      "name": "python3"
    },
    "language_info": {
      "name": "python"
    },
    "accelerator": "GPU"
  },
  "nbformat": 4,
  "nbformat_minor": 0
}